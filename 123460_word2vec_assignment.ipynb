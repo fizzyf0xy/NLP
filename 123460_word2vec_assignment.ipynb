{
 "cells": [
  {
   "cell_type": "markdown",
   "id": "e702c219-ac86-4342-99ea-3dd26ca5491e",
   "metadata": {},
   "source": [
    "## Word2Vec Assignment"
   ]
  },
  {
   "cell_type": "markdown",
   "id": "278f285a-a07c-45f6-89ca-fe6e9ae2fa6e",
   "metadata": {},
   "source": [
    "You MUST build on top of what we have coded in the class (to prevent anyone from just copying from the internet).\n",
    "\n",
    "1.  Try a real corpus (instead of banana apple, try something real... on the internet....) - not so big!  Just so you have a good taste of real stuff....like 50 documents, each having 50 words...(really up to you)\n",
    "\n",
    "2. Try a window size of 2\n",
    "\n",
    "3. Implement CBOW (instead of skipgrams)\n",
    "\n",
    "4. Compare normal version of skipgrams vs. negative sampling version of skipgrams in terms of time (using real corpus)\n",
    "\n",
    "Point criteria:\n",
    "0: not done/copy directly from your friend (inspired is ok)\n",
    "1: ok\n",
    "2: with comments, and a nice explanation along the notebook (like how Chaky do his tutorial...)"
   ]
  },
  {
   "cell_type": "markdown",
   "id": "c3508cb9-3977-4c50-ac14-d4e2ade8455b",
   "metadata": {},
   "source": [
    "Name: Podchanan Rungthirakul\n",
    "\n",
    "StudentID: st123460"
   ]
  },
  {
   "cell_type": "code",
   "execution_count": 2,
   "id": "371279fa-0ccd-498e-bd6a-21e1ace9b58c",
   "metadata": {},
   "outputs": [],
   "source": [
    "import numpy as np\n",
    "import torch\n",
    "import torch.nn as nn\n",
    "import torch.optim as optim\n",
    "import matplotlib.pyplot as plt"
   ]
  },
  {
   "cell_type": "markdown",
   "id": "581f5ffe-87d9-4f41-ae81-1b16520f28ea",
   "metadata": {},
   "source": [
    "## 1. Load the data\n",
    "\n",
    "I use my interested informations about jazz music as a corpus for the data in here."
   ]
  },
  {
   "cell_type": "code",
   "execution_count": 3,
   "id": "c87cbde2-194d-4a12-9810-30d6aa1ce746",
   "metadata": {},
   "outputs": [
    {
     "data": {
      "text/plain": [
       "'3.4.2'"
      ]
     },
     "execution_count": 3,
     "metadata": {},
     "output_type": "execute_result"
    }
   ],
   "source": [
    "import spacy\n",
    "spacy.__version__"
   ]
  },
  {
   "cell_type": "code",
   "execution_count": 4,
   "id": "79b60eef-e108-4e8a-a2b4-0b52c5e4d3af",
   "metadata": {},
   "outputs": [],
   "source": [
    "nlp = spacy.load(\"en_core_web_sm\")"
   ]
  },
  {
   "cell_type": "code",
   "execution_count": 109,
   "id": "9f919282-ff96-47e5-aed3-f758e283d3cf",
   "metadata": {},
   "outputs": [],
   "source": [
    "# put the informations of jazz music from Wikipedia in corpus\n",
    "corpus = [\"Jazz is a music genre that originated in the African-American communities of New Orleans, Louisiana, in the late 19th and early 20th centuries, with its roots in blues and ragtime.[1][2][3][4] Since the 1920s Jazz Age, it has been recognized as a major form of musical expression in traditional and popular music. Jazz is characterized by swing and blue notes, complex chords, call and response vocals, polyrhythms and improvisation. Jazz has roots in European harmony and African rhythmic rituals.\",\n",
    "         \"As jazz spread around the world, it drew on national, regional, and local musical cultures, which gave rise to different styles. New Orleans jazz began in the early 1910s, combining earlier brass band marches, French quadrilles, biguine, ragtime and blues with collective polyphonic improvisation. But jazz did not begin as a single musical tradition in New Orleans or elsewhere. In the 1930s, arranged dance-oriented swing big bands, Kansas City jazz (a hard-swinging, bluesy, improvisational style), and gypsy jazz (a style that emphasized musette waltzes) were the prominent styles. Bebop emerged in the 1940s, shifting jazz from danceable popular music toward a more challenging 'musician's music' which was played at faster tempos and used more chord-based improvisation. Cool jazz developed near the end of the 1940s, introducing calmer, smoother sounds and long, linear melodic lines.\",\n",
    "         \"The mid-1950s saw the emergence of hard bop, which introduced influences from rhythm and blues, gospel, and blues to small groups and particularly to saxophone and piano. Modal jazz developed in the late 1950s, using the mode, or musical scale, as the basis of musical structure and improvisation, as did free jazz, which explored playing without regular meter, beat and formal structures. Jazz-rock fusion appeared in the late 1960s and early 1970s, combining jazz improvisation with rock music's rhythms, electric instruments, and highly amplified stage sound. In the early 1980s, a commercial form of jazz fusion called smooth jazz became successful, garnering significant radio airplay. Other styles and genres abound in the 21st century, such as Latin and Afro-Cuban jazz.\",\n",
    "         \"The origin of the word jazz has resulted in considerable research, and its history is well documented. It is believed to be related to jasm, a slang term dating back to 1860 meaning 'pep, energy'. The earliest written record of the word is in a 1912 article in the Los Angeles Times in which a minor league baseball pitcher described a pitch which he called a 'jazz ball' because it wobbles and you simply can't do anything with it.\"]"
   ]
  },
  {
   "cell_type": "code",
   "execution_count": 110,
   "id": "4bd3c731-f43f-4a77-b74c-9a4f2425447f",
   "metadata": {},
   "outputs": [],
   "source": [
    "# \n",
    "corpus_tokenized = []\n",
    "for i in range(len(corpus)):\n",
    "    corpus_tokenized.append([str(token) for token in nlp([c for c in corpus][i])])"
   ]
  },
  {
   "cell_type": "code",
   "execution_count": 111,
   "id": "744ba48e-bf48-4d1e-ba65-c3f46883c4a1",
   "metadata": {},
   "outputs": [
    {
     "data": {
      "text/plain": [
       "[['Jazz',\n",
       "  'is',\n",
       "  'a',\n",
       "  'music',\n",
       "  'genre',\n",
       "  'that',\n",
       "  'originated',\n",
       "  'in',\n",
       "  'the',\n",
       "  'African',\n",
       "  '-',\n",
       "  'American',\n",
       "  'communities',\n",
       "  'of',\n",
       "  'New',\n",
       "  'Orleans',\n",
       "  ',',\n",
       "  'Louisiana',\n",
       "  ',',\n",
       "  'in',\n",
       "  'the',\n",
       "  'late',\n",
       "  '19th',\n",
       "  'and',\n",
       "  'early',\n",
       "  '20th',\n",
       "  'centuries',\n",
       "  ',',\n",
       "  'with',\n",
       "  'its',\n",
       "  'roots',\n",
       "  'in',\n",
       "  'blues',\n",
       "  'and',\n",
       "  'ragtime.[1][2][3][4',\n",
       "  ']',\n",
       "  'Since',\n",
       "  'the',\n",
       "  '1920s',\n",
       "  'Jazz',\n",
       "  'Age',\n",
       "  ',',\n",
       "  'it',\n",
       "  'has',\n",
       "  'been',\n",
       "  'recognized',\n",
       "  'as',\n",
       "  'a',\n",
       "  'major',\n",
       "  'form',\n",
       "  'of',\n",
       "  'musical',\n",
       "  'expression',\n",
       "  'in',\n",
       "  'traditional',\n",
       "  'and',\n",
       "  'popular',\n",
       "  'music',\n",
       "  '.',\n",
       "  'Jazz',\n",
       "  'is',\n",
       "  'characterized',\n",
       "  'by',\n",
       "  'swing',\n",
       "  'and',\n",
       "  'blue',\n",
       "  'notes',\n",
       "  ',',\n",
       "  'complex',\n",
       "  'chords',\n",
       "  ',',\n",
       "  'call',\n",
       "  'and',\n",
       "  'response',\n",
       "  'vocals',\n",
       "  ',',\n",
       "  'polyrhythms',\n",
       "  'and',\n",
       "  'improvisation',\n",
       "  '.',\n",
       "  'Jazz',\n",
       "  'has',\n",
       "  'roots',\n",
       "  'in',\n",
       "  'European',\n",
       "  'harmony',\n",
       "  'and',\n",
       "  'African',\n",
       "  'rhythmic',\n",
       "  'rituals',\n",
       "  '.'],\n",
       " ['As',\n",
       "  'jazz',\n",
       "  'spread',\n",
       "  'around',\n",
       "  'the',\n",
       "  'world',\n",
       "  ',',\n",
       "  'it',\n",
       "  'drew',\n",
       "  'on',\n",
       "  'national',\n",
       "  ',',\n",
       "  'regional',\n",
       "  ',',\n",
       "  'and',\n",
       "  'local',\n",
       "  'musical',\n",
       "  'cultures',\n",
       "  ',',\n",
       "  'which',\n",
       "  'gave',\n",
       "  'rise',\n",
       "  'to',\n",
       "  'different',\n",
       "  'styles',\n",
       "  '.',\n",
       "  'New',\n",
       "  'Orleans',\n",
       "  'jazz',\n",
       "  'began',\n",
       "  'in',\n",
       "  'the',\n",
       "  'early',\n",
       "  '1910s',\n",
       "  ',',\n",
       "  'combining',\n",
       "  'earlier',\n",
       "  'brass',\n",
       "  'band',\n",
       "  'marches',\n",
       "  ',',\n",
       "  'French',\n",
       "  'quadrilles',\n",
       "  ',',\n",
       "  'biguine',\n",
       "  ',',\n",
       "  'ragtime',\n",
       "  'and',\n",
       "  'blues',\n",
       "  'with',\n",
       "  'collective',\n",
       "  'polyphonic',\n",
       "  'improvisation',\n",
       "  '.',\n",
       "  'But',\n",
       "  'jazz',\n",
       "  'did',\n",
       "  'not',\n",
       "  'begin',\n",
       "  'as',\n",
       "  'a',\n",
       "  'single',\n",
       "  'musical',\n",
       "  'tradition',\n",
       "  'in',\n",
       "  'New',\n",
       "  'Orleans',\n",
       "  'or',\n",
       "  'elsewhere',\n",
       "  '.',\n",
       "  'In',\n",
       "  'the',\n",
       "  '1930s',\n",
       "  ',',\n",
       "  'arranged',\n",
       "  'dance',\n",
       "  '-',\n",
       "  'oriented',\n",
       "  'swing',\n",
       "  'big',\n",
       "  'bands',\n",
       "  ',',\n",
       "  'Kansas',\n",
       "  'City',\n",
       "  'jazz',\n",
       "  '(',\n",
       "  'a',\n",
       "  'hard',\n",
       "  '-',\n",
       "  'swinging',\n",
       "  ',',\n",
       "  'bluesy',\n",
       "  ',',\n",
       "  'improvisational',\n",
       "  'style',\n",
       "  ')',\n",
       "  ',',\n",
       "  'and',\n",
       "  'gypsy',\n",
       "  'jazz',\n",
       "  '(',\n",
       "  'a',\n",
       "  'style',\n",
       "  'that',\n",
       "  'emphasized',\n",
       "  'musette',\n",
       "  'waltzes',\n",
       "  ')',\n",
       "  'were',\n",
       "  'the',\n",
       "  'prominent',\n",
       "  'styles',\n",
       "  '.',\n",
       "  'Bebop',\n",
       "  'emerged',\n",
       "  'in',\n",
       "  'the',\n",
       "  '1940s',\n",
       "  ',',\n",
       "  'shifting',\n",
       "  'jazz',\n",
       "  'from',\n",
       "  'danceable',\n",
       "  'popular',\n",
       "  'music',\n",
       "  'toward',\n",
       "  'a',\n",
       "  'more',\n",
       "  'challenging',\n",
       "  \"'\",\n",
       "  'musician',\n",
       "  \"'s\",\n",
       "  'music',\n",
       "  \"'\",\n",
       "  'which',\n",
       "  'was',\n",
       "  'played',\n",
       "  'at',\n",
       "  'faster',\n",
       "  'tempos',\n",
       "  'and',\n",
       "  'used',\n",
       "  'more',\n",
       "  'chord',\n",
       "  '-',\n",
       "  'based',\n",
       "  'improvisation',\n",
       "  '.',\n",
       "  'Cool',\n",
       "  'jazz',\n",
       "  'developed',\n",
       "  'near',\n",
       "  'the',\n",
       "  'end',\n",
       "  'of',\n",
       "  'the',\n",
       "  '1940s',\n",
       "  ',',\n",
       "  'introducing',\n",
       "  'calmer',\n",
       "  ',',\n",
       "  'smoother',\n",
       "  'sounds',\n",
       "  'and',\n",
       "  'long',\n",
       "  ',',\n",
       "  'linear',\n",
       "  'melodic',\n",
       "  'lines',\n",
       "  '.'],\n",
       " ['The',\n",
       "  'mid-1950s',\n",
       "  'saw',\n",
       "  'the',\n",
       "  'emergence',\n",
       "  'of',\n",
       "  'hard',\n",
       "  'bop',\n",
       "  ',',\n",
       "  'which',\n",
       "  'introduced',\n",
       "  'influences',\n",
       "  'from',\n",
       "  'rhythm',\n",
       "  'and',\n",
       "  'blues',\n",
       "  ',',\n",
       "  'gospel',\n",
       "  ',',\n",
       "  'and',\n",
       "  'blues',\n",
       "  'to',\n",
       "  'small',\n",
       "  'groups',\n",
       "  'and',\n",
       "  'particularly',\n",
       "  'to',\n",
       "  'saxophone',\n",
       "  'and',\n",
       "  'piano',\n",
       "  '.',\n",
       "  'Modal',\n",
       "  'jazz',\n",
       "  'developed',\n",
       "  'in',\n",
       "  'the',\n",
       "  'late',\n",
       "  '1950s',\n",
       "  ',',\n",
       "  'using',\n",
       "  'the',\n",
       "  'mode',\n",
       "  ',',\n",
       "  'or',\n",
       "  'musical',\n",
       "  'scale',\n",
       "  ',',\n",
       "  'as',\n",
       "  'the',\n",
       "  'basis',\n",
       "  'of',\n",
       "  'musical',\n",
       "  'structure',\n",
       "  'and',\n",
       "  'improvisation',\n",
       "  ',',\n",
       "  'as',\n",
       "  'did',\n",
       "  'free',\n",
       "  'jazz',\n",
       "  ',',\n",
       "  'which',\n",
       "  'explored',\n",
       "  'playing',\n",
       "  'without',\n",
       "  'regular',\n",
       "  'meter',\n",
       "  ',',\n",
       "  'beat',\n",
       "  'and',\n",
       "  'formal',\n",
       "  'structures',\n",
       "  '.',\n",
       "  'Jazz',\n",
       "  '-',\n",
       "  'rock',\n",
       "  'fusion',\n",
       "  'appeared',\n",
       "  'in',\n",
       "  'the',\n",
       "  'late',\n",
       "  '1960s',\n",
       "  'and',\n",
       "  'early',\n",
       "  '1970s',\n",
       "  ',',\n",
       "  'combining',\n",
       "  'jazz',\n",
       "  'improvisation',\n",
       "  'with',\n",
       "  'rock',\n",
       "  'music',\n",
       "  \"'s\",\n",
       "  'rhythms',\n",
       "  ',',\n",
       "  'electric',\n",
       "  'instruments',\n",
       "  ',',\n",
       "  'and',\n",
       "  'highly',\n",
       "  'amplified',\n",
       "  'stage',\n",
       "  'sound',\n",
       "  '.',\n",
       "  'In',\n",
       "  'the',\n",
       "  'early',\n",
       "  '1980s',\n",
       "  ',',\n",
       "  'a',\n",
       "  'commercial',\n",
       "  'form',\n",
       "  'of',\n",
       "  'jazz',\n",
       "  'fusion',\n",
       "  'called',\n",
       "  'smooth',\n",
       "  'jazz',\n",
       "  'became',\n",
       "  'successful',\n",
       "  ',',\n",
       "  'garnering',\n",
       "  'significant',\n",
       "  'radio',\n",
       "  'airplay',\n",
       "  '.',\n",
       "  'Other',\n",
       "  'styles',\n",
       "  'and',\n",
       "  'genres',\n",
       "  'abound',\n",
       "  'in',\n",
       "  'the',\n",
       "  '21st',\n",
       "  'century',\n",
       "  ',',\n",
       "  'such',\n",
       "  'as',\n",
       "  'Latin',\n",
       "  'and',\n",
       "  'Afro',\n",
       "  '-',\n",
       "  'Cuban',\n",
       "  'jazz',\n",
       "  '.'],\n",
       " ['The',\n",
       "  'origin',\n",
       "  'of',\n",
       "  'the',\n",
       "  'word',\n",
       "  'jazz',\n",
       "  'has',\n",
       "  'resulted',\n",
       "  'in',\n",
       "  'considerable',\n",
       "  'research',\n",
       "  ',',\n",
       "  'and',\n",
       "  'its',\n",
       "  'history',\n",
       "  'is',\n",
       "  'well',\n",
       "  'documented',\n",
       "  '.',\n",
       "  'It',\n",
       "  'is',\n",
       "  'believed',\n",
       "  'to',\n",
       "  'be',\n",
       "  'related',\n",
       "  'to',\n",
       "  'jasm',\n",
       "  ',',\n",
       "  'a',\n",
       "  'slang',\n",
       "  'term',\n",
       "  'dating',\n",
       "  'back',\n",
       "  'to',\n",
       "  '1860',\n",
       "  'meaning',\n",
       "  \"'\",\n",
       "  'pep',\n",
       "  ',',\n",
       "  'energy',\n",
       "  \"'\",\n",
       "  '.',\n",
       "  'The',\n",
       "  'earliest',\n",
       "  'written',\n",
       "  'record',\n",
       "  'of',\n",
       "  'the',\n",
       "  'word',\n",
       "  'is',\n",
       "  'in',\n",
       "  'a',\n",
       "  '1912',\n",
       "  'article',\n",
       "  'in',\n",
       "  'the',\n",
       "  'Los',\n",
       "  'Angeles',\n",
       "  'Times',\n",
       "  'in',\n",
       "  'which',\n",
       "  'a',\n",
       "  'minor',\n",
       "  'league',\n",
       "  'baseball',\n",
       "  'pitcher',\n",
       "  'described',\n",
       "  'a',\n",
       "  'pitch',\n",
       "  'which',\n",
       "  'he',\n",
       "  'called',\n",
       "  'a',\n",
       "  \"'\",\n",
       "  'jazz',\n",
       "  'ball',\n",
       "  \"'\",\n",
       "  'because',\n",
       "  'it',\n",
       "  'wobbles',\n",
       "  'and',\n",
       "  'you',\n",
       "  'simply',\n",
       "  'ca',\n",
       "  \"n't\",\n",
       "  'do',\n",
       "  'anything',\n",
       "  'with',\n",
       "  'it',\n",
       "  '.']]"
      ]
     },
     "execution_count": 111,
     "metadata": {},
     "output_type": "execute_result"
    }
   ],
   "source": [
    "corpus_tokenized"
   ]
  },
  {
   "cell_type": "code",
   "execution_count": 112,
   "id": "8a86bd5e-c8f4-4c27-84b3-20b21cb6b8aa",
   "metadata": {},
   "outputs": [],
   "source": [
    "#2. numericalize\n",
    "\n",
    "#2.1 get all the unique words\n",
    "#we want to flatten this (basically merge all list)\n",
    "flatten = lambda l: [item for sublist in l for item in sublist]\n",
    "vocabs  = list(set(flatten(corpus_tokenized)))  \n",
    "#vocabs is a term defining all unique words your system know"
   ]
  },
  {
   "cell_type": "code",
   "execution_count": 113,
   "id": "5306ecf8-bcd0-4055-8cac-4fac2a626bc3",
   "metadata": {},
   "outputs": [],
   "source": [
    "#2.2 assign id to all these vocabs\n",
    "word2index = {v: idx for idx, v in enumerate(vocabs)}"
   ]
  },
  {
   "cell_type": "code",
   "execution_count": 114,
   "id": "169c625e-1203-4f9e-8d5b-dc5fc1a13f5f",
   "metadata": {},
   "outputs": [
    {
     "data": {
      "text/plain": [
       "61"
      ]
     },
     "execution_count": 114,
     "metadata": {},
     "output_type": "execute_result"
    }
   ],
   "source": [
    "word2index['jazz']"
   ]
  },
  {
   "cell_type": "code",
   "execution_count": 115,
   "id": "a7607f28-8b5e-4369-9761-5743a3250e89",
   "metadata": {},
   "outputs": [
    {
     "data": {
      "text/plain": [
       "258"
      ]
     },
     "execution_count": 115,
     "metadata": {},
     "output_type": "execute_result"
    }
   ],
   "source": [
    "word2index['instruments']"
   ]
  },
  {
   "cell_type": "code",
   "execution_count": 116,
   "id": "aa3e40f1-32cf-4654-a26c-e56732b9eded",
   "metadata": {},
   "outputs": [],
   "source": [
    "#add <UNK>, which is a very normal token exists in the world\n",
    "vocabs.append('<UNK>') #chaky, can it be ##UNK, or UNKKKKKK, or anything"
   ]
  },
  {
   "cell_type": "code",
   "execution_count": 117,
   "id": "70e72d92-e51d-4cac-bcac-0db40fcd160e",
   "metadata": {},
   "outputs": [],
   "source": [
    "#now we have a way to know what is the id of <UNK>\n",
    "word2index['<UNK>'] = 0  #I set <UNK> as 0"
   ]
  },
  {
   "cell_type": "code",
   "execution_count": 118,
   "id": "45a35d57-1033-403b-a178-867b1c5e769a",
   "metadata": {},
   "outputs": [
    {
     "data": {
      "text/plain": [
       "{0: '<UNK>',\n",
       " 1: 'complex',\n",
       " 2: 'call',\n",
       " 3: 'But',\n",
       " 4: 'gospel',\n",
       " 5: 'stage',\n",
       " 6: 'piano',\n",
       " 7: 'article',\n",
       " 8: ',',\n",
       " 9: 'ball',\n",
       " 10: 'traditional',\n",
       " 11: 'in',\n",
       " 12: 'Since',\n",
       " 13: 'major',\n",
       " 14: 'gypsy',\n",
       " 15: 'calmer',\n",
       " 16: 'polyrhythms',\n",
       " 17: 'not',\n",
       " 18: 'polyphonic',\n",
       " 19: 'regular',\n",
       " 20: '(',\n",
       " 21: 'genres',\n",
       " 22: 'you',\n",
       " 23: 'explored',\n",
       " 24: 'he',\n",
       " 25: 'the',\n",
       " 26: 'became',\n",
       " 27: 'beat',\n",
       " 28: 'bluesy',\n",
       " 29: 'developed',\n",
       " 30: 'a',\n",
       " 31: 'did',\n",
       " 32: 'bop',\n",
       " 33: 'highly',\n",
       " 34: 'styles',\n",
       " 35: 'it',\n",
       " 36: 'pitcher',\n",
       " 37: 'emphasized',\n",
       " 38: 'improvisational',\n",
       " 39: 'well',\n",
       " 40: '1980s',\n",
       " 41: 'smooth',\n",
       " 42: 'slang',\n",
       " 43: 'dating',\n",
       " 44: 'electric',\n",
       " 45: 'mode',\n",
       " 46: 'pep',\n",
       " 47: 'mid-1950s',\n",
       " 48: 'end',\n",
       " 49: 'toward',\n",
       " 50: 'recognized',\n",
       " 51: 'from',\n",
       " 52: 'Orleans',\n",
       " 53: 'appeared',\n",
       " 54: 'playing',\n",
       " 55: 'response',\n",
       " 56: 'improvisation',\n",
       " 57: \"'\",\n",
       " 58: 'ca',\n",
       " 59: 'Angeles',\n",
       " 60: 'blues',\n",
       " 61: 'jazz',\n",
       " 62: '1910s',\n",
       " 63: 'rise',\n",
       " 64: 'used',\n",
       " 65: '.',\n",
       " 66: 'blue',\n",
       " 67: 'Jazz',\n",
       " 68: 'century',\n",
       " 69: 'believed',\n",
       " 70: 'Modal',\n",
       " 71: 'New',\n",
       " 72: 'Times',\n",
       " 73: 'dance',\n",
       " 74: 'ragtime.[1][2][3][4',\n",
       " 75: 'energy',\n",
       " 76: 'abound',\n",
       " 77: '1960s',\n",
       " 78: 'do',\n",
       " 79: 'radio',\n",
       " 80: 'earliest',\n",
       " 81: 'particularly',\n",
       " 82: 'more',\n",
       " 83: 'faster',\n",
       " 84: 'structures',\n",
       " 85: 'saw',\n",
       " 86: 'was',\n",
       " 87: 'be',\n",
       " 88: 'African',\n",
       " 89: 'rhythmic',\n",
       " 90: 'Louisiana',\n",
       " 91: 'saxophone',\n",
       " 92: 'arranged',\n",
       " 93: 'term',\n",
       " 94: 'long',\n",
       " 95: 'chord',\n",
       " 96: 'sounds',\n",
       " 97: 'scale',\n",
       " 98: 'brass',\n",
       " 99: 'formal',\n",
       " 100: 'rock',\n",
       " 101: 'hard',\n",
       " 102: 'free',\n",
       " 103: 'danceable',\n",
       " 104: '1970s',\n",
       " 105: 'airplay',\n",
       " 106: 'French',\n",
       " 107: 'musette',\n",
       " 108: 'quadrilles',\n",
       " 109: 'earlier',\n",
       " 110: 'As',\n",
       " 111: ')',\n",
       " 112: 'resulted',\n",
       " 113: 'Kansas',\n",
       " 114: 'meaning',\n",
       " 115: 'wobbles',\n",
       " 116: 'American',\n",
       " 117: 'communities',\n",
       " 118: 'harmony',\n",
       " 119: 'rituals',\n",
       " 120: 'back',\n",
       " 121: 'garnering',\n",
       " 122: 'rhythm',\n",
       " 123: 'origin',\n",
       " 124: 'lines',\n",
       " 125: 'marches',\n",
       " 126: '19th',\n",
       " 127: 'basis',\n",
       " 128: ']',\n",
       " 129: 'groups',\n",
       " 130: 'spread',\n",
       " 131: 'national',\n",
       " 132: 'league',\n",
       " 133: 'anything',\n",
       " 134: 'word',\n",
       " 135: 'smoother',\n",
       " 136: 'late',\n",
       " 137: 'Afro',\n",
       " 138: '-',\n",
       " 139: 'linear',\n",
       " 140: 'documented',\n",
       " 141: 'were',\n",
       " 142: 'research',\n",
       " 143: 'history',\n",
       " 144: 'which',\n",
       " 145: 'fusion',\n",
       " 146: 'jasm',\n",
       " 147: 'It',\n",
       " 148: 'ragtime',\n",
       " 149: 'collective',\n",
       " 150: 'big',\n",
       " 151: 'amplified',\n",
       " 152: 'its',\n",
       " 153: '1930s',\n",
       " 154: 'swinging',\n",
       " 155: 'been',\n",
       " 156: 'such',\n",
       " 157: 'Los',\n",
       " 158: 'characterized',\n",
       " 159: 'biguine',\n",
       " 160: 'shifting',\n",
       " 161: 'different',\n",
       " 162: 'melodic',\n",
       " 163: 'related',\n",
       " 164: 'musician',\n",
       " 165: 'because',\n",
       " 166: '1920s',\n",
       " 167: 'bands',\n",
       " 168: 'significant',\n",
       " 169: 'has',\n",
       " 170: 'expression',\n",
       " 171: 'emergence',\n",
       " 172: 'small',\n",
       " 173: 'influences',\n",
       " 174: 'and',\n",
       " 175: 'played',\n",
       " 176: 'local',\n",
       " 177: 'meter',\n",
       " 178: 'or',\n",
       " 179: 'Latin',\n",
       " 180: 'early',\n",
       " 181: 'considerable',\n",
       " 182: 'near',\n",
       " 183: 'musical',\n",
       " 184: '1912',\n",
       " 185: 'structure',\n",
       " 186: 'swing',\n",
       " 187: '21st',\n",
       " 188: 'popular',\n",
       " 189: 'pitch',\n",
       " 190: 'written',\n",
       " 191: 'oriented',\n",
       " 192: 'music',\n",
       " 193: 'challenging',\n",
       " 194: 'Other',\n",
       " 195: 'style',\n",
       " 196: 'gave',\n",
       " 197: 'waltzes',\n",
       " 198: 'record',\n",
       " 199: 'is',\n",
       " 200: 'Age',\n",
       " 201: 'notes',\n",
       " 202: 'band',\n",
       " 203: 'based',\n",
       " 204: 'tradition',\n",
       " 205: 'originated',\n",
       " 206: 'The',\n",
       " 207: 'without',\n",
       " 208: 'introducing',\n",
       " 209: 'cultures',\n",
       " 210: 'began',\n",
       " 211: 'roots',\n",
       " 212: 'around',\n",
       " 213: 'City',\n",
       " 214: 'tempos',\n",
       " 215: 'as',\n",
       " 216: 'of',\n",
       " 217: 'regional',\n",
       " 218: 'Bebop',\n",
       " 219: 'commercial',\n",
       " 220: '1860',\n",
       " 221: 'single',\n",
       " 222: 'rhythms',\n",
       " 223: 'to',\n",
       " 224: 'European',\n",
       " 225: 'combining',\n",
       " 226: 'that',\n",
       " 227: 'on',\n",
       " 228: 'emerged',\n",
       " 229: '1940s',\n",
       " 230: \"'s\",\n",
       " 231: 'with',\n",
       " 232: 'called',\n",
       " 233: 'elsewhere',\n",
       " 234: 'introduced',\n",
       " 235: 'Cuban',\n",
       " 236: 'chords',\n",
       " 237: 'baseball',\n",
       " 238: 'vocals',\n",
       " 239: 'centuries',\n",
       " 240: 'world',\n",
       " 241: 'at',\n",
       " 242: 'form',\n",
       " 243: 'described',\n",
       " 244: 'by',\n",
       " 245: \"n't\",\n",
       " 246: '1950s',\n",
       " 247: 'minor',\n",
       " 248: 'simply',\n",
       " 249: 'using',\n",
       " 250: 'drew',\n",
       " 251: 'sound',\n",
       " 252: 'prominent',\n",
       " 253: 'begin',\n",
       " 254: 'successful',\n",
       " 255: 'Cool',\n",
       " 256: '20th',\n",
       " 257: 'genre',\n",
       " 258: 'instruments'}"
      ]
     },
     "execution_count": 118,
     "metadata": {},
     "output_type": "execute_result"
    }
   ],
   "source": [
    "#create index2word dictionary\n",
    "#2 min    \n",
    "index2word = {v:k for k, v in word2index.items()}\n",
    "\n",
    "index2word"
   ]
  },
  {
   "cell_type": "code",
   "execution_count": 119,
   "id": "68360563-66c4-40ec-a56a-f751caf58a89",
   "metadata": {},
   "outputs": [
    {
     "data": {
      "text/plain": [
       "['In',\n",
       " 'complex',\n",
       " 'call',\n",
       " 'But',\n",
       " 'gospel',\n",
       " 'stage',\n",
       " 'piano',\n",
       " 'article',\n",
       " ',',\n",
       " 'ball',\n",
       " 'traditional',\n",
       " 'in',\n",
       " 'Since',\n",
       " 'major',\n",
       " 'gypsy',\n",
       " 'calmer',\n",
       " 'polyrhythms',\n",
       " 'not',\n",
       " 'polyphonic',\n",
       " 'regular',\n",
       " '(',\n",
       " 'genres',\n",
       " 'you',\n",
       " 'explored',\n",
       " 'he',\n",
       " 'the',\n",
       " 'became',\n",
       " 'beat',\n",
       " 'bluesy',\n",
       " 'developed',\n",
       " 'a',\n",
       " 'did',\n",
       " 'bop',\n",
       " 'highly',\n",
       " 'styles',\n",
       " 'it',\n",
       " 'pitcher',\n",
       " 'emphasized',\n",
       " 'improvisational',\n",
       " 'well',\n",
       " '1980s',\n",
       " 'smooth',\n",
       " 'slang',\n",
       " 'dating',\n",
       " 'electric',\n",
       " 'mode',\n",
       " 'pep',\n",
       " 'mid-1950s',\n",
       " 'end',\n",
       " 'toward',\n",
       " 'recognized',\n",
       " 'from',\n",
       " 'Orleans',\n",
       " 'appeared',\n",
       " 'playing',\n",
       " 'response',\n",
       " 'improvisation',\n",
       " \"'\",\n",
       " 'ca',\n",
       " 'Angeles',\n",
       " 'blues',\n",
       " 'jazz',\n",
       " '1910s',\n",
       " 'rise',\n",
       " 'used',\n",
       " '.',\n",
       " 'blue',\n",
       " 'Jazz',\n",
       " 'century',\n",
       " 'believed',\n",
       " 'Modal',\n",
       " 'New',\n",
       " 'Times',\n",
       " 'dance',\n",
       " 'ragtime.[1][2][3][4',\n",
       " 'energy',\n",
       " 'abound',\n",
       " '1960s',\n",
       " 'do',\n",
       " 'radio',\n",
       " 'earliest',\n",
       " 'particularly',\n",
       " 'more',\n",
       " 'faster',\n",
       " 'structures',\n",
       " 'saw',\n",
       " 'was',\n",
       " 'be',\n",
       " 'African',\n",
       " 'rhythmic',\n",
       " 'Louisiana',\n",
       " 'saxophone',\n",
       " 'arranged',\n",
       " 'term',\n",
       " 'long',\n",
       " 'chord',\n",
       " 'sounds',\n",
       " 'scale',\n",
       " 'brass',\n",
       " 'formal',\n",
       " 'rock',\n",
       " 'hard',\n",
       " 'free',\n",
       " 'danceable',\n",
       " '1970s',\n",
       " 'airplay',\n",
       " 'French',\n",
       " 'musette',\n",
       " 'quadrilles',\n",
       " 'earlier',\n",
       " 'As',\n",
       " ')',\n",
       " 'resulted',\n",
       " 'Kansas',\n",
       " 'meaning',\n",
       " 'wobbles',\n",
       " 'American',\n",
       " 'communities',\n",
       " 'harmony',\n",
       " 'rituals',\n",
       " 'back',\n",
       " 'garnering',\n",
       " 'rhythm',\n",
       " 'origin',\n",
       " 'lines',\n",
       " 'marches',\n",
       " '19th',\n",
       " 'basis',\n",
       " ']',\n",
       " 'groups',\n",
       " 'spread',\n",
       " 'national',\n",
       " 'league',\n",
       " 'anything',\n",
       " 'word',\n",
       " 'smoother',\n",
       " 'late',\n",
       " 'Afro',\n",
       " '-',\n",
       " 'linear',\n",
       " 'documented',\n",
       " 'were',\n",
       " 'research',\n",
       " 'history',\n",
       " 'which',\n",
       " 'fusion',\n",
       " 'jasm',\n",
       " 'It',\n",
       " 'ragtime',\n",
       " 'collective',\n",
       " 'big',\n",
       " 'amplified',\n",
       " 'its',\n",
       " '1930s',\n",
       " 'swinging',\n",
       " 'been',\n",
       " 'such',\n",
       " 'Los',\n",
       " 'characterized',\n",
       " 'biguine',\n",
       " 'shifting',\n",
       " 'different',\n",
       " 'melodic',\n",
       " 'related',\n",
       " 'musician',\n",
       " 'because',\n",
       " '1920s',\n",
       " 'bands',\n",
       " 'significant',\n",
       " 'has',\n",
       " 'expression',\n",
       " 'emergence',\n",
       " 'small',\n",
       " 'influences',\n",
       " 'and',\n",
       " 'played',\n",
       " 'local',\n",
       " 'meter',\n",
       " 'or',\n",
       " 'Latin',\n",
       " 'early',\n",
       " 'considerable',\n",
       " 'near',\n",
       " 'musical',\n",
       " '1912',\n",
       " 'structure',\n",
       " 'swing',\n",
       " '21st',\n",
       " 'popular',\n",
       " 'pitch',\n",
       " 'written',\n",
       " 'oriented',\n",
       " 'music',\n",
       " 'challenging',\n",
       " 'Other',\n",
       " 'style',\n",
       " 'gave',\n",
       " 'waltzes',\n",
       " 'record',\n",
       " 'is',\n",
       " 'Age',\n",
       " 'notes',\n",
       " 'band',\n",
       " 'based',\n",
       " 'tradition',\n",
       " 'originated',\n",
       " 'The',\n",
       " 'without',\n",
       " 'introducing',\n",
       " 'cultures',\n",
       " 'began',\n",
       " 'roots',\n",
       " 'around',\n",
       " 'City',\n",
       " 'tempos',\n",
       " 'as',\n",
       " 'of',\n",
       " 'regional',\n",
       " 'Bebop',\n",
       " 'commercial',\n",
       " '1860',\n",
       " 'single',\n",
       " 'rhythms',\n",
       " 'to',\n",
       " 'European',\n",
       " 'combining',\n",
       " 'that',\n",
       " 'on',\n",
       " 'emerged',\n",
       " '1940s',\n",
       " \"'s\",\n",
       " 'with',\n",
       " 'called',\n",
       " 'elsewhere',\n",
       " 'introduced',\n",
       " 'Cuban',\n",
       " 'chords',\n",
       " 'baseball',\n",
       " 'vocals',\n",
       " 'centuries',\n",
       " 'world',\n",
       " 'at',\n",
       " 'form',\n",
       " 'described',\n",
       " 'by',\n",
       " \"n't\",\n",
       " '1950s',\n",
       " 'minor',\n",
       " 'simply',\n",
       " 'using',\n",
       " 'drew',\n",
       " 'sound',\n",
       " 'prominent',\n",
       " 'begin',\n",
       " 'successful',\n",
       " 'Cool',\n",
       " '20th',\n",
       " 'genre',\n",
       " 'instruments',\n",
       " '<UNK>']"
      ]
     },
     "execution_count": 119,
     "metadata": {},
     "output_type": "execute_result"
    }
   ],
   "source": [
    "vocabs"
   ]
  },
  {
   "cell_type": "markdown",
   "id": "8437181a-c68a-49b7-9979-2ac8bff613ca",
   "metadata": {},
   "source": [
    "## Prepare the data"
   ]
  },
  {
   "cell_type": "code",
   "execution_count": 120,
   "id": "1c284982-6105-4446-8c42-bc07ebd66cea",
   "metadata": {},
   "outputs": [
    {
     "data": {
      "text/plain": [
       "[['a', 'Jazz'],\n",
       " ['a', 'genre'],\n",
       " ['music', 'is'],\n",
       " ['music', 'that'],\n",
       " ['genre', 'a'],\n",
       " ['genre', 'originated'],\n",
       " ['that', 'music'],\n",
       " ['that', 'in'],\n",
       " ['originated', 'genre'],\n",
       " ['originated', 'the'],\n",
       " ['in', 'that'],\n",
       " ['in', 'African'],\n",
       " ['the', 'originated'],\n",
       " ['the', '-'],\n",
       " ['African', 'in'],\n",
       " ['African', 'American'],\n",
       " ['-', 'the'],\n",
       " ['-', 'communities'],\n",
       " ['American', 'African'],\n",
       " ['American', 'of'],\n",
       " ['communities', '-'],\n",
       " ['communities', 'New'],\n",
       " ['of', 'American'],\n",
       " ['of', 'Orleans'],\n",
       " ['New', 'communities'],\n",
       " ['New', ','],\n",
       " ['Orleans', 'of'],\n",
       " ['Orleans', 'Louisiana'],\n",
       " [',', 'New'],\n",
       " [',', ',']]"
      ]
     },
     "execution_count": 120,
     "metadata": {},
     "output_type": "execute_result"
    }
   ],
   "source": [
    "\n",
    "#use window_size = 2 as the assignment's instruction.\n",
    "\n",
    "skipgrams = []\n",
    "\n",
    "#for each corpus\n",
    "for sent in corpus_tokenized:\n",
    "    for i in range(2, len(sent)-2): #start from 2 to second last\n",
    "        center_word = sent[i]\n",
    "        outside_words = [sent[i-2], sent[i+2]]  #window_size = 2\n",
    "        for o in outside_words:\n",
    "            skipgrams.append([center_word, o])\n",
    "\n",
    "skipgrams[:30]"
   ]
  },
  {
   "cell_type": "code",
   "execution_count": 121,
   "id": "817a007c-122b-4b1e-b8fa-22ffc0a74075",
   "metadata": {},
   "outputs": [],
   "source": [
    "#let's make what we have made into a function (batch function)\n",
    "#return a batches of data, e.g., =2 --> ['banana', 'apple'], ['banana', 'fruit']\n",
    "#also i want these batches to be id, NOT token   --> [5, 4]\n",
    "\n",
    "def random_batch(batch_size, corpus):\n",
    "    \n",
    "    skipgrams = []\n",
    "\n",
    "    #for each corpus\n",
    "    for sent in corpus_tokenized:\n",
    "        #for each sent \n",
    "        for i in range(2, len(sent) - 2): #start from 2 to the third last\n",
    "            center_word = word2index[sent[i]]\n",
    "            outside_words = [word2index[sent[i-2]], word2index[sent[i+2]]]  #window_size = 2\n",
    "            for o in outside_words:\n",
    "                skipgrams.append([center_word, o])\n",
    "                \n",
    "    #only get a batch, not the entire list\n",
    "    random_index = np.random.choice(range(len(skipgrams)), batch_size, replace=False)\n",
    "             \n",
    "    #appending some list of inputs and labels\n",
    "    random_inputs, random_labels = [], []   \n",
    "    for index in random_index:\n",
    "        random_inputs.append([skipgrams[index][0]])  #center words, this will be a shape of (1, ) --> (1, 1) for modeling\n",
    "        random_labels.append([skipgrams[index][1]])\n",
    "        \n",
    "    return np.array(random_inputs), np.array(random_labels)"
   ]
  },
  {
   "cell_type": "code",
   "execution_count": 122,
   "id": "b908f760-93dc-482d-84e9-b9183cfaa3b2",
   "metadata": {},
   "outputs": [
    {
     "name": "stdout",
     "output_type": "stream",
     "text": [
      "(10, 1)\n",
      "label=array([[ 52],\n",
      "       [ 51],\n",
      "       [180],\n",
      "       [ 30],\n",
      "       [ 67],\n",
      "       [ 25],\n",
      "       [195],\n",
      "       [224],\n",
      "       [109],\n",
      "       [ 56]])\n"
     ]
    }
   ],
   "source": [
    "input, label = random_batch(10, corpus_tokenized)\n",
    "\n",
    "print(f\"{input.shape}\")\n",
    "print(f\"{label=}\")"
   ]
  },
  {
   "cell_type": "markdown",
   "id": "3adcd33d-597c-47b2-aea1-6c304060b21d",
   "metadata": {},
   "source": [
    "## Unigram distribution"
   ]
  },
  {
   "cell_type": "code",
   "execution_count": 123,
   "id": "378a3eb2-7129-4be9-acd8-0216dc9deb5f",
   "metadata": {},
   "outputs": [],
   "source": [
    "from collections import Counter\n",
    "\n",
    "word_count = Counter(flatten(corpus_tokenized))\n",
    "# word_count # Showing word count"
   ]
  },
  {
   "cell_type": "code",
   "execution_count": 124,
   "id": "5b097d1d-dad9-4500-920b-1c5cb4c4f40d",
   "metadata": {},
   "outputs": [
    {
     "data": {
      "text/plain": [
       "496"
      ]
     },
     "execution_count": 124,
     "metadata": {},
     "output_type": "execute_result"
    }
   ],
   "source": [
    "num_total_words = sum([c for w, c in word_count.items()])\n",
    "num_total_words"
   ]
  },
  {
   "cell_type": "code",
   "execution_count": 125,
   "id": "265b4424-a2a1-439d-933b-98acc35725b3",
   "metadata": {},
   "outputs": [],
   "source": [
    "z = 0.001  #scaling up low frequency terms\n",
    "unigram_table = []\n",
    "\n",
    "# create loop for the P(w) formula\n",
    "for v in vocabs:\n",
    "    uw = word_count[v]/num_total_words\n",
    "    uw_alpha = uw ** (3/4)\n",
    "    uw_alpha_dividebyz = int(uw_alpha / z)\n",
    "    unigram_table.extend([v] * uw_alpha_dividebyz)\n",
    "    \n",
    "# Counter(unigram_table)"
   ]
  },
  {
   "cell_type": "markdown",
   "id": "a7074cd7-d4a8-4d87-9567-968e6d0c5bbb",
   "metadata": {},
   "source": [
    "## 4. Negative sampling"
   ]
  },
  {
   "cell_type": "code",
   "execution_count": 126,
   "id": "2fb9f05e-2453-4ce0-85e2-44ebdcf3ec7d",
   "metadata": {},
   "outputs": [],
   "source": [
    "def prepare_sequence(seq, word2index):\n",
    "    idxs = list(map(lambda w: word2index[w] if word2index.get(w) is not None else word2index[\"<UNK>\"], seq))\n",
    "    return torch.LongTensor(idxs)"
   ]
  },
  {
   "cell_type": "code",
   "execution_count": 127,
   "id": "f15dc315-7da2-4a0f-a837-a1e5191be6b6",
   "metadata": {},
   "outputs": [],
   "source": [
    "import random\n",
    "\n",
    "def negative_sampling(targets, unigram_table, k):\n",
    "    \n",
    "    batch_size = targets.shape[0]\n",
    "    neg_samples = []\n",
    "    \n",
    "    for i in range(batch_size):\n",
    "        #randomly pick k negative words from unigram_table\n",
    "        target_index = targets[i].item()  #looping each of the batch....\n",
    "        nsample = []\n",
    "        while len(nsample) < k:\n",
    "            neg = random.choice(unigram_table)\n",
    "            #if this word == target, skip this word\n",
    "            if word2index[neg] == target_index:\n",
    "                continue\n",
    "            nsample.append(neg)\n",
    "        #append this word to some list\n",
    "        neg_samples.append(prepare_sequence(nsample, word2index).reshape(1, -1))  #tensor[], tensor[]\n",
    "    return torch.cat(neg_samples)"
   ]
  },
  {
   "cell_type": "code",
   "execution_count": 128,
   "id": "e555fde6-dcee-45ff-83be-00d23f13ee77",
   "metadata": {},
   "outputs": [
    {
     "data": {
      "text/plain": [
       "(array([[ 25],\n",
       "        [136]]),\n",
       " array([[ 29],\n",
       "        [174]]))"
      ]
     },
     "execution_count": 128,
     "metadata": {},
     "output_type": "execute_result"
    }
   ],
   "source": [
    "batch_size = 2\n",
    "input_batch, label_batch = random_batch(batch_size, corpus_tokenized)\n",
    "\n",
    "input_batch, label_batch"
   ]
  },
  {
   "cell_type": "code",
   "execution_count": 129,
   "id": "42140165-ad66-4045-8b11-db3582ec66a9",
   "metadata": {},
   "outputs": [],
   "source": [
    "# Convert to Tensor\n",
    "\n",
    "input_batch = torch.LongTensor(input_batch)\n",
    "label_batch = torch.LongTensor(label_batch)"
   ]
  },
  {
   "cell_type": "code",
   "execution_count": 130,
   "id": "956cce9f-ed10-4527-bad5-8832d3e9fd9e",
   "metadata": {},
   "outputs": [],
   "source": [
    "num_neg = 5 \n",
    "neg_samples = negative_sampling(label_batch, unigram_table, num_neg)"
   ]
  },
  {
   "cell_type": "code",
   "execution_count": 131,
   "id": "590a783e-66e4-4c8f-91c7-619a54dc6a93",
   "metadata": {},
   "outputs": [
    {
     "data": {
      "text/plain": [
       "torch.Size([2, 5])"
      ]
     },
     "execution_count": 131,
     "metadata": {},
     "output_type": "execute_result"
    }
   ],
   "source": [
    "neg_samples.shape # shape is (batch_size, num_neg)"
   ]
  },
  {
   "cell_type": "markdown",
   "id": "16c74a46-7732-41ac-9163-9dea8019a5af",
   "metadata": {},
   "source": [
    "## 5. Model"
   ]
  },
  {
   "cell_type": "code",
   "execution_count": 132,
   "id": "433ca860-b78e-436a-8ebb-3e1f20b7a208",
   "metadata": {},
   "outputs": [],
   "source": [
    "class SkipgramNeg(nn.Module):\n",
    "    \n",
    "    def __init__(self, voc_size, emb_size):\n",
    "        super(SkipgramNeg, self).__init__()\n",
    "        self.embedding_center_word  = nn.Embedding(voc_size, emb_size)\n",
    "        self.embedding_outside_word = nn.Embedding(voc_size, emb_size)\n",
    "        self.logsigmoid = nn.LogSigmoid()\n",
    "        \n",
    "    def forward(self, centre_words, outside_words, negative_words):\n",
    "        #center_words, outside_words: (batch_size, 1)\n",
    "        #negative_words:  (batch_size, k)\n",
    "        \n",
    "        center_embbed  = self.embedding_center_word(centre_words)    #(batch_size, 1, emb_size)\n",
    "        outside_embbed = self.embedding_outside_word(outside_words)  #(batch_size, 1, emb_size)\n",
    "        neg_embbed     = self.embedding_outside_word(negative_words) #(batch_size, k, emb_size)\n",
    "        \n",
    "        uovc          =  outside_embbed.bmm(center_embbed.transpose(1, 2)).squeeze(2)  #(batch_size, 1)\n",
    "        ukvc          = -neg_embbed.bmm(center_embbed.transpose(1, 2)).squeeze(2)  #(batch_size, k)\n",
    "        ukvc_sum      =  torch.sum(ukvc, 1).view(-1, 1) #(batch_size, 1)\n",
    "        \n",
    "        loss = self.logsigmoid(uovc) + self.logsigmoid(ukvc_sum)  #(batch_size, 1) + (batch_size, 1)\n",
    "                \n",
    "        return -torch.mean(loss)  \n",
    "#scalar, loss should be scalar, to call backward()"
   ]
  },
  {
   "cell_type": "code",
   "execution_count": 133,
   "id": "514aa4ac-f691-43d7-8efb-8f25d0373c51",
   "metadata": {},
   "outputs": [],
   "source": [
    "input, label = random_batch(batch_size, corpus_tokenized)\n",
    "input_tensor = torch.LongTensor(input)  \n",
    "label_tensor = torch.LongTensor(label)"
   ]
  },
  {
   "cell_type": "code",
   "execution_count": 134,
   "id": "dd75b1c9-4e11-46fd-a02c-294cc3adcc64",
   "metadata": {},
   "outputs": [],
   "source": [
    "emb_size = 20 \n",
    "voc_size = len(vocabs)\n",
    "model = SkipgramNeg(voc_size, emb_size)"
   ]
  },
  {
   "cell_type": "code",
   "execution_count": 135,
   "id": "0952176c-3380-4e8e-bf0b-2f16104fce06",
   "metadata": {},
   "outputs": [],
   "source": [
    "neg_tensor = negative_sampling(label_tensor, unigram_table, 5)"
   ]
  },
  {
   "cell_type": "code",
   "execution_count": 136,
   "id": "6d0d0e68-5400-4008-ad7c-40dbc2fe4824",
   "metadata": {},
   "outputs": [
    {
     "data": {
      "text/plain": [
       "tensor([[214,  37, 123, 130, 183],\n",
       "        [ 72, 189, 149, 235, 229]])"
      ]
     },
     "execution_count": 136,
     "metadata": {},
     "output_type": "execute_result"
    }
   ],
   "source": [
    "neg_tensor"
   ]
  },
  {
   "cell_type": "code",
   "execution_count": 137,
   "id": "ac25dc18-1e28-419c-be71-f2f2ecb3abec",
   "metadata": {},
   "outputs": [
    {
     "data": {
      "text/plain": [
       "(torch.Size([2, 1]), torch.Size([2, 1]))"
      ]
     },
     "execution_count": 137,
     "metadata": {},
     "output_type": "execute_result"
    }
   ],
   "source": [
    "input_tensor.shape, label_tensor.shape"
   ]
  },
  {
   "cell_type": "code",
   "execution_count": 138,
   "id": "d4e12ad3-ca64-490d-90e6-661ec57319c4",
   "metadata": {},
   "outputs": [
    {
     "data": {
      "text/plain": [
       "tensor(0.3351, grad_fn=<NegBackward0>)"
      ]
     },
     "execution_count": 138,
     "metadata": {},
     "output_type": "execute_result"
    }
   ],
   "source": [
    "loss = model(input_tensor, label_tensor, neg_tensor)\n",
    "loss"
   ]
  },
  {
   "cell_type": "markdown",
   "id": "eea57919-f10e-4951-a0fb-ef73a4afa826",
   "metadata": {},
   "source": [
    "## 6. Training"
   ]
  },
  {
   "cell_type": "code",
   "execution_count": 139,
   "id": "e3c0f437-de6c-4105-bccf-ff121dea89c4",
   "metadata": {},
   "outputs": [],
   "source": [
    "voc_size   = len(vocabs)\n",
    "batch_size = 2\n",
    "emb_size   = 20\n",
    "model      = SkipgramNeg(voc_size, emb_size)\n",
    "\n",
    "optimizer  = optim.Adam(model.parameters(), lr=0.001)"
   ]
  },
  {
   "cell_type": "code",
   "execution_count": 140,
   "id": "fc1edbc6-742f-4c2c-8692-8d8d36e9836e",
   "metadata": {},
   "outputs": [
    {
     "name": "stdout",
     "output_type": "stream",
     "text": [
      "Epoch 1000 | Loss: 0.083466 | Time: ??\n",
      "Epoch 2000 | Loss: 0.018716 | Time: ??\n",
      "Epoch 3000 | Loss: 13.217049 | Time: ??\n",
      "Epoch 4000 | Loss: 0.000002 | Time: ??\n",
      "Epoch 5000 | Loss: 0.000000 | Time: ??\n",
      "Epoch 6000 | Loss: 0.000000 | Time: ??\n"
     ]
    }
   ],
   "source": [
    "num_epochs = 6000\n",
    "\n",
    "for epoch in range(num_epochs):\n",
    "\n",
    "    #get random batch\n",
    "    input_batch, label_batch = random_batch(batch_size, corpus_tokenized)\n",
    "    input_batch = torch.LongTensor(input_batch)\n",
    "    label_batch = torch.LongTensor(label_batch)\n",
    "    neg_batch   = negative_sampling(label_batch, unigram_table, 5)    \n",
    "    \n",
    "    #loss = model\n",
    "    loss = model(input_batch, label_batch, neg_batch)\n",
    "    \n",
    "    #backpropagate\n",
    "    loss.backward()\n",
    "    \n",
    "    #update alpha\n",
    "    optimizer.step()\n",
    "    \n",
    "    #print epoch loss\n",
    "    if (epoch + 1) % 1000 == 0:\n",
    "        print(f\"Epoch {epoch+1} | Loss: {loss:.6f} | Time: ??\")"
   ]
  },
  {
   "cell_type": "markdown",
   "id": "aa39269b-d3b3-4af5-90ed-6abaa1544017",
   "metadata": {},
   "source": [
    "## 7. Plot the embeddings"
   ]
  },
  {
   "cell_type": "code",
   "execution_count": 141,
   "id": "223716df-24cc-487f-b4d8-6665e7e4cc1c",
   "metadata": {},
   "outputs": [
    {
     "data": {
      "text/plain": [
       "tensor([61])"
      ]
     },
     "execution_count": 141,
     "metadata": {},
     "output_type": "execute_result"
    }
   ],
   "source": [
    "jazz = torch.LongTensor([word2index['jazz']])\n",
    "jazz"
   ]
  },
  {
   "cell_type": "code",
   "execution_count": 142,
   "id": "de35d922-c0ed-40a2-a9cc-ba3576998f8d",
   "metadata": {},
   "outputs": [
    {
     "data": {
      "text/plain": [
       "tensor([258])"
      ]
     },
     "execution_count": 142,
     "metadata": {},
     "output_type": "execute_result"
    }
   ],
   "source": [
    "instruments = torch.LongTensor([word2index['instruments']])\n",
    "instruments"
   ]
  },
  {
   "cell_type": "code",
   "execution_count": 143,
   "id": "ffd92052-299e-45e4-8681-508e1f0d9f8d",
   "metadata": {},
   "outputs": [
    {
     "data": {
      "text/plain": [
       "tensor([[-2.4010,  3.1948, -0.4104,  0.0059,  3.4403, -0.3064,  1.3744,  0.4962,\n",
       "         -2.6488,  1.2626, -0.5866,  1.7677,  0.6779,  3.0095, -0.4107, -0.9519,\n",
       "         -1.4897,  1.3684,  2.6857,  1.6247]], grad_fn=<DivBackward0>)"
      ]
     },
     "execution_count": 143,
     "metadata": {},
     "output_type": "execute_result"
    }
   ],
   "source": [
    "jazz_center_embbed = model.embedding_center_word(jazz)\n",
    "jazz_outside_embbed = model.embedding_outside_word(jazz)\n",
    "jazz_embbed = (jazz_center_embbed + jazz_outside_embbed) / 2\n",
    "jazz_embbed"
   ]
  },
  {
   "cell_type": "code",
   "execution_count": 144,
   "id": "673eb362-ce83-4e98-b170-46d289437707",
   "metadata": {},
   "outputs": [],
   "source": [
    "def get_embbed(word):\n",
    "    try:\n",
    "        index = word2index[word]\n",
    "    except:\n",
    "        index = word2index['<UNK>']\n",
    "    \n",
    "    word = torch.LongTensor([index])\n",
    "\n",
    "    center_embbed  = model.embedding_center_word(word)\n",
    "    outside_embbed = model.embedding_outside_word(word)\n",
    "    \n",
    "    embbed = (center_embbed + outside_embbed) / 2\n",
    "    \n",
    "    return  embbed[0][0].item(), embbed[0][1].item()"
   ]
  },
  {
   "cell_type": "code",
   "execution_count": 145,
   "id": "ae29d034-9ea0-48ca-ab7c-5366432f0364",
   "metadata": {},
   "outputs": [
    {
     "name": "stdout",
     "output_type": "stream",
     "text": [
      "(-2.40100359916687, 3.194769859313965)\n"
     ]
    }
   ],
   "source": [
    "print(get_embbed('jazz'))"
   ]
  },
  {
   "cell_type": "code",
   "execution_count": 146,
   "id": "d1cb9376-5b49-4a8e-b273-f77056eb144f",
   "metadata": {},
   "outputs": [
    {
     "data": {
      "image/png": "[encoded data removed]",
      "text/plain": [
       "<Figure size 432x216 with 1 Axes>"
      ]
     },
     "metadata": {
      "needs_background": "light"
     },
     "output_type": "display_data"
    }
   ],
   "source": [
    "plt.figure(figsize=(6,3))\n",
    "for i, word in enumerate(vocabs[:20]): #loop each unique vocab\n",
    "    x, y = get_embbed(word)\n",
    "    plt.scatter(x, y)\n",
    "    plt.annotate(word, xy=(x, y), xytext=(5, 2), textcoords='offset points')\n",
    "plt.show()"
   ]
  },
  {
   "cell_type": "markdown",
   "id": "cc6a9424-e542-441d-a78d-f06c4c1fa00c",
   "metadata": {},
   "source": [
    "## Try CBOW"
   ]
  },
  {
   "cell_type": "code",
   "execution_count": 147,
   "id": "ff285977-0147-4bec-97c2-5e5797938f47",
   "metadata": {},
   "outputs": [],
   "source": [
    "#delete duplicate word define as vocabs, also include unknow as <UNK>.\n",
    "flatten = lambda l: [item for sublist in l for item in sublist]\n",
    "vocabs  = list(set(flatten(corpus_tokenized)))\n",
    "vocabs.append('<UNK>') # to let '<UNK>' become the last."
   ]
  },
  {
   "cell_type": "code",
   "execution_count": 148,
   "id": "b976be00-1b73-4d46-bae7-562c3a9149e8",
   "metadata": {},
   "outputs": [
    {
     "data": {
      "text/plain": [
       "62"
      ]
     },
     "execution_count": 148,
     "metadata": {},
     "output_type": "execute_result"
    }
   ],
   "source": [
    "word2index = {v: idx+1 for idx, v in enumerate(vocabs)} #plus one to shift value in word index to assign <UNK>'s value to 0 without duplication with others.\n",
    "word2index['<UNK>'] = 0\n",
    "\n",
    "#Let check word to index's value\n",
    "word2index[\"jazz\"]"
   ]
  },
  {
   "cell_type": "code",
   "execution_count": 149,
   "id": "d774c2bc-5e11-4a8a-b960-b02a889f0c00",
   "metadata": {},
   "outputs": [
    {
     "data": {
      "text/plain": [
       "'Jazz'"
      ]
     },
     "execution_count": 149,
     "metadata": {},
     "output_type": "execute_result"
    }
   ],
   "source": [
    "# create index to word\n",
    "index2word = {v:k for k, v in word2index.items()}\n",
    "\n",
    "index2word[68]"
   ]
  },
  {
   "cell_type": "markdown",
   "id": "559b0f14-1745-4e2a-b68a-44ea607457d1",
   "metadata": {},
   "source": [
    "## Prepare the data"
   ]
  },
  {
   "cell_type": "code",
   "execution_count": 150,
   "id": "7b3fd8da-d2af-47b8-ba93-89024ba6811d",
   "metadata": {},
   "outputs": [
    {
     "data": {
      "text/plain": [
       "[['a', 'do'],\n",
       " ['a', '.'],\n",
       " ['music', 'do'],\n",
       " ['music', '.'],\n",
       " ['genre', 'do'],\n",
       " ['genre', '.'],\n",
       " ['that', 'do'],\n",
       " ['that', '.'],\n",
       " ['originated', 'do'],\n",
       " ['originated', '.'],\n",
       " ['in', 'do'],\n",
       " ['in', '.'],\n",
       " ['the', 'do'],\n",
       " ['the', '.'],\n",
       " ['African', 'do'],\n",
       " ['African', '.'],\n",
       " ['-', 'do'],\n",
       " ['-', '.'],\n",
       " ['American', 'do'],\n",
       " ['American', '.'],\n",
       " ['communities', 'do'],\n",
       " ['communities', '.'],\n",
       " ['of', 'do'],\n",
       " ['of', '.'],\n",
       " ['New', 'do'],\n",
       " ['New', '.'],\n",
       " ['Orleans', 'do'],\n",
       " ['Orleans', '.'],\n",
       " [',', 'do'],\n",
       " [',', '.']]"
      ]
     },
     "execution_count": 150,
     "metadata": {},
     "output_type": "execute_result"
    }
   ],
   "source": [
    "cbow = []\n",
    "\n",
    "#for each corpus\n",
    "for sent in corpus_tokenized:\n",
    "    #for each sent \n",
    "    for i in range(2, len(sent) - 2): # start from 1 to second last but we use window size of 2, then first centre word should be at index 2\n",
    "        center_word = sent[i]\n",
    "        ooutside_words = [sent[i-2], sent[i+2]]  #window_size = 2\n",
    "        for o in outside_words:\n",
    "            cbow.append([center_word, o])\n",
    "\n",
    "cbow[:30]"
   ]
  },
  {
   "cell_type": "code",
   "execution_count": 151,
   "id": "31a1c63b-3c1a-4f5a-b67e-0022b86d1f64",
   "metadata": {},
   "outputs": [],
   "source": [
    "def random_batch(batch_size, corpus):\n",
    "    \n",
    "    cbow = []\n",
    "\n",
    "    #for each corpus\n",
    "    for sent in corpus_tokenized:\n",
    "        #for each sent \n",
    "        for i in range(2, len(sent) - 2): #start from 2 to the third last\n",
    "            center_word = word2index[sent[i]]\n",
    "            outside_words = [word2index[sent[i-2]], word2index[sent[i+2]]]  #window_size = 2\n",
    "            for o in outside_words:\n",
    "                cbow.append([center_word, o])\n",
    "                \n",
    "    #only get a batch, not the entire list\n",
    "    random_index = np.random.choice(range(len(skipgrams)), batch_size, replace=False)\n",
    "             \n",
    "    #appending some list of inputs and labels\n",
    "    random_inputs, random_labels = [], []   \n",
    "    for index in random_index:\n",
    "        random_inputs.append([cbow[index][0]])  \n",
    "        random_labels.append([cbow[index][1]])\n",
    "        \n",
    "    return np.array(random_inputs), np.array(random_labels)"
   ]
  },
  {
   "cell_type": "code",
   "execution_count": 152,
   "id": "233d4ea0-3852-4ab1-9085-61b9e8efb4fc",
   "metadata": {},
   "outputs": [
    {
     "name": "stdout",
     "output_type": "stream",
     "text": [
      "(10, 1)\n",
      "label=array([[191],\n",
      "       [ 72],\n",
      "       [184],\n",
      "       [ 26],\n",
      "       [ 62],\n",
      "       [145],\n",
      "       [ 62],\n",
      "       [219],\n",
      "       [232],\n",
      "       [220]])\n"
     ]
    }
   ],
   "source": [
    "input, label = random_batch(10, corpus_tokenized)\n",
    "\n",
    "print(f\"{input.shape}\")\n",
    "print(f\"{label=}\")"
   ]
  },
  {
   "cell_type": "markdown",
   "id": "bd3ef726-fa46-4fd0-95e5-e714bc6b1623",
   "metadata": {},
   "source": [
    "## Unigram distribution"
   ]
  },
  {
   "cell_type": "code",
   "execution_count": 153,
   "id": "639e925f-e55b-4def-8795-653eb748ddd9",
   "metadata": {},
   "outputs": [],
   "source": [
    "from collections import Counter\n",
    "\n",
    "word_count = Counter(flatten(corpus_tokenized))"
   ]
  },
  {
   "cell_type": "code",
   "execution_count": 154,
   "id": "ebb7be50-8a40-48ab-8e47-cf8920ab516a",
   "metadata": {},
   "outputs": [
    {
     "data": {
      "text/plain": [
       "496"
      ]
     },
     "execution_count": 154,
     "metadata": {},
     "output_type": "execute_result"
    }
   ],
   "source": [
    "num_total_words = sum([c for w, c in word_count.items()])\n",
    "num_total_words"
   ]
  },
  {
   "cell_type": "code",
   "execution_count": 155,
   "id": "df391a31-805d-4f57-9cb4-733a4b79a2be",
   "metadata": {},
   "outputs": [],
   "source": [
    "z = 0.001  #scaling up low frequency terms\n",
    "unigram_table = []\n",
    "\n",
    "# create loop for the P(w) formula\n",
    "for v in vocabs:\n",
    "    uw = word_count[v]/num_total_words\n",
    "    uw_alpha = uw ** (3/4)\n",
    "    uw_alpha_dividebyz = int(uw_alpha / z)\n",
    "    unigram_table.extend([v] * uw_alpha_dividebyz)"
   ]
  },
  {
   "cell_type": "markdown",
   "id": "a612a706-ff7d-40a7-9fde-9ba7c970f33e",
   "metadata": {},
   "source": [
    "## Negative sampling"
   ]
  },
  {
   "cell_type": "code",
   "execution_count": 161,
   "id": "eb1a6669-0c66-4ae3-a127-867e83554174",
   "metadata": {},
   "outputs": [],
   "source": [
    "def prepare_sequence(seq, word2index):\n",
    "    idxs = list(map(lambda w: word2index[w] if word2index.get(w) is not None else word2index[\"<UNK>\"], seq))\n",
    "    return torch.LongTensor(idxs)"
   ]
  },
  {
   "cell_type": "code",
   "execution_count": 162,
   "id": "4f421c88-0742-400e-a73b-c4bd72538bf4",
   "metadata": {},
   "outputs": [],
   "source": [
    "import random\n",
    "\n",
    "def negative_sampling(targets, unigram_table, k):\n",
    "    \n",
    "    batch_size = targets.shape[0]\n",
    "    neg_samples = []\n",
    "    \n",
    "    for i in range(batch_size):\n",
    "        #randomly pick k negative words from unigram_table\n",
    "        target_index = targets[i].item()  #looping each of the batch....\n",
    "        nsample = []\n",
    "        while len(nsample) < k:\n",
    "            neg = random.choice(unigram_table)\n",
    "            #if this word == target, skip this word\n",
    "            if word2index[neg] == target_index:\n",
    "                continue\n",
    "            nsample.append(neg)\n",
    "        #append this word to some list\n",
    "        neg_samples.append(prepare_sequence(nsample, word2index).reshape(1, -1))  #tensor[], tensor[]\n",
    "    return torch.cat(neg_samples)"
   ]
  },
  {
   "cell_type": "code",
   "execution_count": 166,
   "id": "cd371d58-1481-4af0-a4e9-edf2ee93a0d0",
   "metadata": {},
   "outputs": [
    {
     "data": {
      "text/plain": [
       "(array([[242],\n",
       "        [207]]),\n",
       " array([[ 87],\n",
       "        [217]]))"
      ]
     },
     "execution_count": 166,
     "metadata": {},
     "output_type": "execute_result"
    }
   ],
   "source": [
    "batch_size = 2\n",
    "label_batch, input_batch = random_batch(batch_size, corpus_tokenized)\n",
    "\n",
    "input_batch, label_batch"
   ]
  },
  {
   "cell_type": "code",
   "execution_count": 167,
   "id": "a881ce9b-0bb7-47e4-a80a-5e0ed768d7eb",
   "metadata": {},
   "outputs": [],
   "source": [
    "# Convert to Tensor\n",
    "\n",
    "input_batch = torch.LongTensor(input_batch)\n",
    "label_batch = torch.LongTensor(label_batch)"
   ]
  },
  {
   "cell_type": "code",
   "execution_count": 168,
   "id": "5e3d2c6d-6c13-466f-b145-8f8439977783",
   "metadata": {},
   "outputs": [],
   "source": [
    "num_neg = 5  # same as the first part\n",
    "neg_samples = negative_sampling(label_batch, unigram_table, num_neg)"
   ]
  },
  {
   "cell_type": "code",
   "execution_count": 169,
   "id": "95a58168-a389-409b-8b0d-9634f18ef81c",
   "metadata": {},
   "outputs": [
    {
     "data": {
      "text/plain": [
       "torch.Size([2, 5])"
      ]
     },
     "execution_count": 169,
     "metadata": {},
     "output_type": "execute_result"
    }
   ],
   "source": [
    "neg_samples.shape # shape is (batch_size, num_neg)"
   ]
  },
  {
   "cell_type": "markdown",
   "id": "3198b611-aea9-4b8c-83a5-f4280c319c12",
   "metadata": {},
   "source": [
    "## Model"
   ]
  },
  {
   "cell_type": "code",
   "execution_count": 189,
   "id": "5f3a1a9c-3f85-4f1b-98a0-6bb04ea780e0",
   "metadata": {},
   "outputs": [],
   "source": [
    "# get inspired from https://github.com/jeffchy/pytorch-word-embedding/blob/master/CBOW.py\n",
    "\n",
    "class cbow(nn.Module):\n",
    "    \n",
    "    def __init__(self, voc_size, emb_size):\n",
    "        super(cbow, self).__init__()\n",
    "        self.embedding_center_word  = nn.Embedding(voc_size, emb_size)\n",
    "        self.embedding_outside_word = nn.Embedding(voc_size, emb_size)\n",
    "        self.logsigmoid = nn.LogSigmoid()\n",
    "        \n",
    "    def forward(self, center_words, outside_words, negative_words):\n",
    "        \n",
    "        center_embed  = self.embedding_center_word(center_words)    #(batch_size, 1, emb_size)\n",
    "        outside_embed = self.embedding_outside_word(outside_words)  #(batch_size, 1, emb_size)\n",
    "        neg_embed     = self.embedding_outside_word(negative_words) #(batch_size, k, emb_size)\n",
    "        \n",
    "        uovc          =  outside_embed.bmm(center_embed.transpose(1, 2)).squeeze(2)  #(batch_size, 1)\n",
    "        ukvc          = -neg_embed.bmm(center_embed.transpose(1, 2)).squeeze(2)  #(batch_size, k)\n",
    "        ukvc_sum      =  torch.sum(ukvc, 1).view(-1, 1) #(batch_size, 1)\n",
    "        \n",
    "        loss = self.logsigmoid(uovc) + self.logsigmoid(ukvc_sum)  #(batch_size, 1) + (batch_size, 1)\n",
    "                \n",
    "        return -torch.mean(loss)  #scalar, loss should be scalar, to call backward()"
   ]
  },
  {
   "cell_type": "code",
   "execution_count": 190,
   "id": "86fbc226-7512-4429-8241-bada6a159c53",
   "metadata": {},
   "outputs": [],
   "source": [
    "label, input = random_batch(batch_size, corpus_tokenized)\n",
    "input_tensor = torch.LongTensor(input)  \n",
    "label_tensor = torch.LongTensor(label)"
   ]
  },
  {
   "cell_type": "code",
   "execution_count": 198,
   "id": "ae6fa688-3e89-4f76-8373-77a3b864e57b",
   "metadata": {},
   "outputs": [],
   "source": [
    "emb_size = 20 # I will try on 10.\n",
    "voc_size = len(vocabs)\n",
    "model = cbow(voc_size, emb_size)"
   ]
  },
  {
   "cell_type": "code",
   "execution_count": 199,
   "id": "3eead5e3-9a8b-4f30-a486-7de1e6754f47",
   "metadata": {},
   "outputs": [
    {
     "data": {
      "text/plain": [
       "20"
      ]
     },
     "execution_count": 199,
     "metadata": {},
     "output_type": "execute_result"
    }
   ],
   "source": [
    "emb_size"
   ]
  },
  {
   "cell_type": "code",
   "execution_count": 200,
   "id": "51756e65-75b0-406c-9582-af5a7f2a1279",
   "metadata": {},
   "outputs": [
    {
     "data": {
      "text/plain": [
       "260"
      ]
     },
     "execution_count": 200,
     "metadata": {},
     "output_type": "execute_result"
    }
   ],
   "source": [
    "voc_size"
   ]
  },
  {
   "cell_type": "code",
   "execution_count": 201,
   "id": "dba4dfab-8e6c-4cee-b744-f013fce7356c",
   "metadata": {},
   "outputs": [
    {
     "data": {
      "text/plain": [
       "cbow(\n",
       "  (embedding_center_word): Embedding(260, 20)\n",
       "  (embedding_outside_word): Embedding(260, 20)\n",
       "  (logsigmoid): LogSigmoid()\n",
       ")"
      ]
     },
     "execution_count": 201,
     "metadata": {},
     "output_type": "execute_result"
    }
   ],
   "source": [
    "model"
   ]
  },
  {
   "cell_type": "code",
   "execution_count": 202,
   "id": "a446cb7e-80f6-47f7-bef1-876a9e607c62",
   "metadata": {},
   "outputs": [],
   "source": [
    "neg_tensor = negative_sampling(label_tensor, unigram_table, 5)"
   ]
  },
  {
   "cell_type": "code",
   "execution_count": 203,
   "id": "a7be2f30-e199-427f-871e-2c976764c77d",
   "metadata": {},
   "outputs": [
    {
     "data": {
      "text/plain": [
       "(torch.Size([2, 1]), torch.Size([2, 1]))"
      ]
     },
     "execution_count": 203,
     "metadata": {},
     "output_type": "execute_result"
    }
   ],
   "source": [
    "input_tensor.shape, label_tensor.shape"
   ]
  },
  {
   "cell_type": "code",
   "execution_count": 204,
   "id": "3d7db951-28f8-48d7-b1b4-61fa32660f77",
   "metadata": {},
   "outputs": [
    {
     "data": {
      "text/plain": [
       "tensor(4.2389, grad_fn=<NegBackward0>)"
      ]
     },
     "execution_count": 204,
     "metadata": {},
     "output_type": "execute_result"
    }
   ],
   "source": [
    "loss = model(input_tensor, label_tensor, neg_tensor)\n",
    "loss"
   ]
  },
  {
   "cell_type": "markdown",
   "id": "680499e5-8f01-4a7e-8eeb-fa884b0df4c5",
   "metadata": {},
   "source": [
    "## Training"
   ]
  },
  {
   "cell_type": "code",
   "execution_count": 205,
   "id": "ae69955a-3ec3-4358-9805-ef9e62679619",
   "metadata": {},
   "outputs": [],
   "source": [
    "voc_size   = len(vocabs)\n",
    "batch_size = 2\n",
    "emb_size   = 20\n",
    "model      = cbow(voc_size, emb_size)\n",
    "\n",
    "optimizer  = optim.Adam(model.parameters(), lr=0.001)"
   ]
  },
  {
   "cell_type": "code",
   "execution_count": 207,
   "id": "a31d37b1-67f8-4196-85b4-dc0d92607d61",
   "metadata": {},
   "outputs": [
    {
     "name": "stdout",
     "output_type": "stream",
     "text": [
      "Epoch 1000 | Loss: 0.233925 | Time: ??\n",
      "Epoch 2000 | Loss: 7.508681 | Time: ??\n",
      "Epoch 3000 | Loss: 0.070010 | Time: ??\n",
      "Epoch 4000 | Loss: 5.630754 | Time: ??\n",
      "Epoch 5000 | Loss: 0.195231 | Time: ??\n",
      "Epoch 6000 | Loss: 3.593274 | Time: ??\n"
     ]
    }
   ],
   "source": [
    "num_epochs = 6000\n",
    "\n",
    "for epoch in range(num_epochs):\n",
    "\n",
    "    #get random batch\n",
    "    input_batch, label_batch = random_batch(batch_size, corpus_tokenized)\n",
    "    input_batch = torch.LongTensor(input_batch)\n",
    "    label_batch = torch.LongTensor(label_batch)\n",
    "    neg_batch   = negative_sampling(label_batch, unigram_table, 5)    \n",
    "    \n",
    "    #loss = model\n",
    "    loss = model(input_batch, label_batch, neg_batch)\n",
    "    \n",
    "    #backpropagate\n",
    "    loss.backward()\n",
    "    \n",
    "    #update alpha\n",
    "    optimizer.step()\n",
    "    \n",
    "    #print epoch loss\n",
    "    if (epoch + 1) % 1000 == 0:\n",
    "        print(f\"Epoch {epoch+1} | Loss: {loss:.6f} | Time: ??\")"
   ]
  },
  {
   "cell_type": "markdown",
   "id": "0c921f25-43dd-4501-afe7-512b36b41382",
   "metadata": {},
   "source": [
    "## Plot the embeddings"
   ]
  },
  {
   "cell_type": "code",
   "execution_count": 208,
   "id": "ec280945-82cb-4a68-80cc-9ffe6c7cf50e",
   "metadata": {},
   "outputs": [
    {
     "data": {
      "text/plain": [
       "tensor([62])"
      ]
     },
     "execution_count": 208,
     "metadata": {},
     "output_type": "execute_result"
    }
   ],
   "source": [
    "jazz = torch.LongTensor([word2index['jazz']])\n",
    "jazz"
   ]
  },
  {
   "cell_type": "code",
   "execution_count": 209,
   "id": "279d4fb0-756f-4353-9958-1ef0ae78a745",
   "metadata": {},
   "outputs": [
    {
     "data": {
      "text/plain": [
       "tensor([[ 1.2338,  1.8505, -1.8910, -1.2973, -2.3492,  0.9194,  2.0037, -1.2225,\n",
       "         -1.0840,  0.4486,  0.3974,  3.6306,  0.4396,  1.9373, -0.8980, -0.6599,\n",
       "         -1.0953,  1.9911,  1.0350, -0.1054]], grad_fn=<DivBackward0>)"
      ]
     },
     "execution_count": 209,
     "metadata": {},
     "output_type": "execute_result"
    }
   ],
   "source": [
    "jazz_center_embed = model.embedding_center_word(jazz)\n",
    "jazz_outside_embed = model.embedding_outside_word(jazz)\n",
    "\n",
    "jazz_embed = (jazz_center_embed + jazz_outside_embed) / 2\n",
    "jazz_embed"
   ]
  },
  {
   "cell_type": "code",
   "execution_count": 210,
   "id": "7e039e1d-20c6-40d4-ac2c-ea598b8e650d",
   "metadata": {},
   "outputs": [],
   "source": [
    "def get_embed(word):\n",
    "    try:\n",
    "        index = word2index[word]\n",
    "    except:\n",
    "        index = word2index['<UNK>']\n",
    "    \n",
    "    word = torch.LongTensor([index])\n",
    "\n",
    "    center_embed  = model.embedding_center_word(word)\n",
    "    outside_embed = model.embedding_outside_word(word)\n",
    "    \n",
    "    embed = (center_embed + outside_embed) / 2\n",
    "    \n",
    "    return  embed[0][0].item(), embed[0][1].item()"
   ]
  },
  {
   "cell_type": "code",
   "execution_count": 211,
   "id": "6a474693-0d71-4064-b26f-a411f4d9d145",
   "metadata": {},
   "outputs": [
    {
     "name": "stdout",
     "output_type": "stream",
     "text": [
      "(1.2337605953216553, 1.8505382537841797)\n"
     ]
    }
   ],
   "source": [
    "print(get_embed('jazz'))"
   ]
  },
  {
   "cell_type": "code",
   "execution_count": 212,
   "id": "7da8971b-f31f-407c-9d86-024478db903d",
   "metadata": {},
   "outputs": [
    {
     "data": {
      "image/png": "[encoded data removed]",
      "text/plain": [
       "<Figure size 432x216 with 1 Axes>"
      ]
     },
     "metadata": {
      "needs_background": "light"
     },
     "output_type": "display_data"
    }
   ],
   "source": [
    "plt.figure(figsize=(6,3))\n",
    "for i, word in enumerate(vocabs[:20]): #loop each unique vocab\n",
    "    x, y = get_embed(word)\n",
    "    plt.scatter(x, y)\n",
    "    plt.annotate(word, xy=(x, y), xytext=(5, 2), textcoords='offset points')\n",
    "plt.show()"
   ]
  },
  {
   "cell_type": "code",
   "execution_count": null,
   "id": "95ecd889-219c-40e5-b017-ae999c5266ee",
   "metadata": {},
   "outputs": [],
   "source": []
  }
 ],
 "metadata": {
  "kernelspec": {
   "display_name": "Python 3 (ipykernel)",
   "language": "python",
   "name": "python3"
  },
  "language_info": {
   "codemirror_mode": {
    "name": "ipython",
    "version": 3
   },
   "file_extension": ".py",
   "mimetype": "text/x-python",
   "name": "python",
   "nbconvert_exporter": "python",
   "pygments_lexer": "ipython3",
   "version": "3.9.7"
  }
 },
 "nbformat": 4,
 "nbformat_minor": 5
}
