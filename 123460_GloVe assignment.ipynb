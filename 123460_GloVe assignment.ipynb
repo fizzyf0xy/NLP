{
 "cells": [
  {
   "cell_type": "markdown",
   "id": "f24bbe30-4656-46bd-8762-514fa3bf9de9",
   "metadata": {},
   "source": [
    "# GloVe (Assignment)\n",
    "\n",
    "Assignment Instruction\n",
    "\n",
    "Constraint: Only use our code (not other code....)\n",
    "\n",
    "1. I guess you already try a bigger corpus\n",
    "2. I guess you already try window size 2\n",
    "3. I guess you already have skipgram, skipgram(neg), cbow, glove\n",
    "\n",
    "Do this:\n",
    "1. Compare them based on syntactic accuracy and semantic accuracy, similar to how is done in https://nlp.stanford.edu/pubs/glove.pdf (see Table 2) - NO NEED to try 1000 or 300 embed size.....I just want you to learn how to do experiment.....\n",
    "2. Try to find a correlation with just ONE similarity dataset (which humans judge how similar is two words.....)\n",
    "\n",
    "Point criteria:\n",
    "0:  Not done\n",
    "1: ok\n",
    "2: with comments / explanation / figures just like how Chaky explain thing....."
   ]
  },
  {
   "cell_type": "code",
   "execution_count": 1,
   "id": "1656a287-478a-4c5c-89ae-ec507166a9d1",
   "metadata": {},
   "outputs": [],
   "source": [
    "import numpy as np\n",
    "import torch\n",
    "import torch.nn as nn\n",
    "import torch.optim as optim\n",
    "import matplotlib.pyplot as plt\n",
    "import spacy\n",
    "import time"
   ]
  },
  {
   "cell_type": "code",
   "execution_count": 2,
   "id": "b8968c7e-d322-4b90-9342-c0332f19fbc8",
   "metadata": {},
   "outputs": [],
   "source": [
    "def epoch_time(start_time, end_time):\n",
    "    elapsed_time = end_time - start_time\n",
    "    elapsed_mins = int(elapsed_time / 60)\n",
    "    elapsed_secs = int(elapsed_time - (elapsed_mins * 60))\n",
    "    return elapsed_mins, elapsed_secs"
   ]
  },
  {
   "cell_type": "markdown",
   "id": "35a8ba98-090c-4dac-9eec-b61331a8aed9",
   "metadata": {},
   "source": [
    "## 1. Load data"
   ]
  },
  {
   "cell_type": "code",
   "execution_count": 3,
   "id": "17ae0cff-113f-40fb-be54-3e4c8cfa7f63",
   "metadata": {},
   "outputs": [],
   "source": [
    "# Load tokeniser from SpaCy. I will use only small version.\n",
    "\n",
    "tokenizer = spacy.load(\"en_core_web_sm\")"
   ]
  },
  {
   "cell_type": "code",
   "execution_count": 4,
   "id": "856446b6-4627-46b0-825a-f1001ec53a20",
   "metadata": {},
   "outputs": [
    {
     "name": "stdout",
     "output_type": "stream",
     "text": [
      "[': capital-common-countries', 'Athens Greece Baghdad Iraq', 'Athens Greece Bangkok Thailand', 'Athens Greece Beijing China', 'Athens Greece Berlin Germany']\n"
     ]
    }
   ],
   "source": [
    "#define corpus by using data that posted in classroom one.\n",
    "\n",
    "corpus = []\n",
    "\n",
    "with open('questions-words.txt') as f:\n",
    "    while True:\n",
    "        line = f.readline()\n",
    "        if not line:\n",
    "            break\n",
    "        corpus.append(line.strip())\n",
    "print(corpus[:5])\n",
    "corpus_tokenized = []\n",
    "for i in range(len(corpus)):\n",
    "    corpus_tokenized.append([str(token) for token in tokenizer([c for c in corpus][i])])"
   ]
  },
  {
   "cell_type": "code",
   "execution_count": 6,
   "id": "b1f14c9e-e06b-425d-b778-ea0f76784777",
   "metadata": {},
   "outputs": [
    {
     "data": {
      "text/plain": [
       "531"
      ]
     },
     "execution_count": 6,
     "metadata": {},
     "output_type": "execute_result"
    }
   ],
   "source": [
    "#delete dupliAthense word define as vocabs, also include unknow as <UNK>.\n",
    "flatten = lambda l: [item for sublist in l for item in sublist]\n",
    "vocabs  = list(set(flatten(corpus_tokenized)))\n",
    "vocabs.append('<UNK>') # to let '<UNK>' become the last.\n",
    "word2index = {v: idx+1 for idx, v in enumerate(vocabs)} #plus one to shift value in word index to assign <UNK>'s value to 0 without dupliAthension with others.\n",
    "word2index['<UNK>'] = 0\n",
    "\n",
    "#Let check word to index's value\n",
    "word2index[\"Athens\"]"
   ]
  },
  {
   "cell_type": "code",
   "execution_count": 7,
   "id": "c0e3a929-33d2-4ad9-aa79-a81624b5adcd",
   "metadata": {},
   "outputs": [
    {
     "data": {
      "text/plain": [
       "'write'"
      ]
     },
     "execution_count": 7,
     "metadata": {},
     "output_type": "execute_result"
    }
   ],
   "source": [
    "# Create index to word\n",
    "index2word = {v:k for k, v in word2index.items()}\n",
    "\n",
    "index2word[50]"
   ]
  },
  {
   "cell_type": "markdown",
   "id": "42233076-cc95-4700-bd5b-4e35e03891f7",
   "metadata": {},
   "source": [
    "## 2. Prepare train data"
   ]
  },
  {
   "cell_type": "code",
   "execution_count": 8,
   "id": "962faa5d-a7b2-4b68-9af6-7a437b7ddbcd",
   "metadata": {},
   "outputs": [
    {
     "data": {
      "text/plain": [
       "[['-', 251],\n",
       " ['-', 86],\n",
       " ['common', 89],\n",
       " ['common', 118],\n",
       " ['-', 251],\n",
       " ['-', 86],\n",
       " ['in', 352],\n",
       " ['in', 500],\n",
       " ['-', 251],\n",
       " ['-', 86],\n",
       " ['adjective', 733],\n",
       " ['adjective', 115],\n",
       " ['-', 86],\n",
       " ['-', 86],\n",
       " ['to', 440],\n",
       " ['to', 625],\n",
       " ['-', 251],\n",
       " ['-', 86],\n",
       " ['present', 40],\n",
       " ['present', 933],\n",
       " ['-', 251],\n",
       " ['-', 86],\n",
       " ['nationality', 463],\n",
       " ['nationality', 440],\n",
       " ['-', 251],\n",
       " ['-', 86],\n",
       " ['past', 730],\n",
       " ['past', 77],\n",
       " ['-', 251],\n",
       " ['-', 86]]"
      ]
     },
     "execution_count": 8,
     "metadata": {},
     "output_type": "execute_result"
    }
   ],
   "source": [
    "skipgrams = []\n",
    "\n",
    "#for each corpus\n",
    "for sent in corpus_tokenized:\n",
    "    #for each sent \n",
    "    for i in range(2, len(sent) - 2): # start from 1 to second last but we use window size of 2, then first centre word should be at index 2\n",
    "        center_word = sent[i]\n",
    "        outside_words = [word2index[sent[i-2]], word2index[sent[i+2]]]  # window_size = 2\n",
    "        for o in outside_words:\n",
    "            skipgrams.append([center_word, o])\n",
    "\n",
    "skipgrams[:30] "
   ]
  },
  {
   "cell_type": "code",
   "execution_count": 9,
   "id": "aa55d044-e16a-4fd9-a618-6a1ac751c34f",
   "metadata": {},
   "outputs": [],
   "source": [
    "def random_batch(batch_size, corpus):\n",
    "    \n",
    "    skipgrams = []\n",
    "\n",
    "    for sent in corpus:\n",
    "        for i in range(2, len(sent) - 2): #start from 2 to third last for window size = 2\n",
    "            center_word = word2index[sent[i]]\n",
    "            outside_words = [word2index[sent[i-2]], word2index[sent[i+2]]]  #window_size = 2\n",
    "            for o in outside_words:\n",
    "                skipgrams.append([center_word, o])\n",
    "                \n",
    "    #only get a batch, not the entire list\n",
    "    random_index = np.random.choice(range(len(skipgrams)), batch_size, replace=False)\n",
    "    #appending some list of inputs and labels\n",
    "    random_inputs, random_labels = [], []   \n",
    "    for index in random_index:\n",
    "        random_inputs.append([skipgrams[index][0]])  #center words, this will be a shape of (1, ) --> (1, 1) for modeling\n",
    "        random_labels.append([skipgrams[index][1]])\n",
    "        \n",
    "    return np.array(random_inputs), np.array(random_labels)"
   ]
  },
  {
   "cell_type": "code",
   "execution_count": 10,
   "id": "db80be3c-2096-410e-90f8-df511156fcde",
   "metadata": {},
   "outputs": [
    {
     "name": "stdout",
     "output_type": "stream",
     "text": [
      "(10, 1)\n",
      "label=array([[ 86],\n",
      "       [733],\n",
      "       [251],\n",
      "       [ 86],\n",
      "       [251],\n",
      "       [ 86],\n",
      "       [251],\n",
      "       [352],\n",
      "       [ 86],\n",
      "       [251]])\n"
     ]
    }
   ],
   "source": [
    "input, label = random_batch(10, corpus_tokenized)\n",
    "\n",
    "print(f\"{input.shape}\")\n",
    "print(f\"{label=}\")"
   ]
  },
  {
   "cell_type": "markdown",
   "id": "2d9323a1-5232-497e-9670-95176a8fde96",
   "metadata": {},
   "source": [
    "## 3. Unigram distribution"
   ]
  },
  {
   "cell_type": "code",
   "execution_count": 11,
   "id": "3245f4e4-53b7-4cdf-a6e6-26a7e8775d20",
   "metadata": {},
   "outputs": [],
   "source": [
    "from collections import Counter\n",
    "\n",
    "word_count = Counter(flatten(corpus_tokenized))\n",
    "# word_count # Showing word count"
   ]
  },
  {
   "cell_type": "code",
   "execution_count": 12,
   "id": "5c3dd8e6-99cd-4fd5-ba08-1bd45fc8d0a7",
   "metadata": {},
   "outputs": [
    {
     "data": {
      "text/plain": [
       "78244"
      ]
     },
     "execution_count": 12,
     "metadata": {},
     "output_type": "execute_result"
    }
   ],
   "source": [
    "num_total_words = sum([c for w, c in word_count.items()])\n",
    "num_total_words"
   ]
  },
  {
   "cell_type": "code",
   "execution_count": 13,
   "id": "10ee7aa6-1486-4cda-b00e-0dfdd866bc12",
   "metadata": {},
   "outputs": [],
   "source": [
    "z = 0.001  #scaling up low frequency terms\n",
    "unigram_table = []\n",
    "\n",
    "# create loop for the P(w) formula\n",
    "for v in vocabs:\n",
    "    uw = word_count[v]/num_total_words\n",
    "    uw_alpha = uw ** (3/4)\n",
    "    uw_alpha_dividebyz = int(uw_alpha / z)\n",
    "    unigram_table.extend([v] * uw_alpha_dividebyz)\n",
    "    \n",
    "# Counter(unigram_table)"
   ]
  },
  {
   "cell_type": "markdown",
   "id": "ba88fb19-811e-47c2-8559-475bb1671695",
   "metadata": {},
   "source": [
    "## 4. Negative sampling"
   ]
  },
  {
   "cell_type": "code",
   "execution_count": 14,
   "id": "486f8126-6554-423d-bbcd-19f7ea9e9969",
   "metadata": {},
   "outputs": [],
   "source": [
    "def prepare_sequence(seq, word2index):\n",
    "    idxs = list(map(lambda w: word2index[w] if word2index.get(w) is not None else word2index[\"<UNK>\"], seq))\n",
    "    return torch.LongTensor(idxs)"
   ]
  },
  {
   "cell_type": "code",
   "execution_count": 15,
   "id": "f55d08c6-2c0f-486f-8c11-4578e0f105a6",
   "metadata": {},
   "outputs": [],
   "source": [
    "import random\n",
    "\n",
    "def negative_sampling(targets, unigram_table, k):\n",
    "    \n",
    "    batch_size = targets.shape[0]\n",
    "    neg_samples = []\n",
    "    \n",
    "    for i in range(batch_size):\n",
    "        #randomly pick k negative words from unigram_table\n",
    "        target_index = targets[i].item()  #looping each of the batch....\n",
    "        nsample = []\n",
    "        while len(nsample) < k:\n",
    "            neg = random.choice(unigram_table)\n",
    "            #if this word == target, skip this word\n",
    "            if word2index[neg] == target_index:\n",
    "                continue\n",
    "            nsample.append(neg)\n",
    "        #append this word to some list\n",
    "        neg_samples.append(prepare_sequence(nsample, word2index).reshape(1, -1))  #tensor[], tensor[]\n",
    "    return torch.cat(neg_samples)"
   ]
  },
  {
   "cell_type": "code",
   "execution_count": 16,
   "id": "fdc15472-4645-41ac-ada6-2860010c886a",
   "metadata": {},
   "outputs": [
    {
     "data": {
      "text/plain": [
       "(array([[842],\n",
       "        [325]]),\n",
       " array([[315],\n",
       "        [ 89]]))"
      ]
     },
     "execution_count": 16,
     "metadata": {},
     "output_type": "execute_result"
    }
   ],
   "source": [
    "batch_size = 2\n",
    "input_batch, label_batch = random_batch(batch_size, corpus_tokenized)\n",
    "\n",
    "input_batch, label_batch"
   ]
  },
  {
   "cell_type": "code",
   "execution_count": 17,
   "id": "dcbf6fe4-85fc-4b2d-a8b9-479b8b53026d",
   "metadata": {},
   "outputs": [],
   "source": [
    "# Convert to Tensor\n",
    "\n",
    "input_batch = torch.LongTensor(input_batch)\n",
    "label_batch = torch.LongTensor(label_batch)"
   ]
  },
  {
   "cell_type": "code",
   "execution_count": 18,
   "id": "d52c2554-f22f-4305-abd1-bdea44abf84d",
   "metadata": {},
   "outputs": [],
   "source": [
    "num_neg = 10  # I will try 10 as in the paper.\n",
    "neg_samples = negative_sampling(label_batch, unigram_table, num_neg)"
   ]
  },
  {
   "cell_type": "code",
   "execution_count": 19,
   "id": "44a4b875-2842-457c-884b-c05d1b58ad9c",
   "metadata": {},
   "outputs": [
    {
     "data": {
      "text/plain": [
       "torch.Size([2, 10])"
      ]
     },
     "execution_count": 19,
     "metadata": {},
     "output_type": "execute_result"
    }
   ],
   "source": [
    "neg_samples.shape # shape is (batch_size, num_neg)"
   ]
  },
  {
   "cell_type": "markdown",
   "id": "872893d2-6b8e-47e4-9639-254c960f68c0",
   "metadata": {},
   "source": [
    "## 5. Model"
   ]
  },
  {
   "cell_type": "code",
   "execution_count": 20,
   "id": "8bcb187c-9540-4ede-8ade-96a1cb17f782",
   "metadata": {},
   "outputs": [],
   "source": [
    "class SkipgramNeg(nn.Module):\n",
    "    \n",
    "    def __init__(self, voc_size, emb_size):\n",
    "        super(SkipgramNeg, self).__init__()\n",
    "        self.embedding_center_word  = nn.Embedding(voc_size, emb_size)\n",
    "        self.embedding_outside_word = nn.Embedding(voc_size, emb_size)\n",
    "        self.logsigmoid = nn.LogSigmoid()\n",
    "        \n",
    "    def forward(self, center_words, outside_words, negative_words):\n",
    "        #center_words, outside_words: (batch_size, 1)\n",
    "        #negative_words:  (batch_size, k)\n",
    "        \n",
    "        center_embed  = self.embedding_center_word(center_words)    #(batch_size, 1, emb_size)\n",
    "        outside_embed = self.embedding_outside_word(outside_words)  #(batch_size, 1, emb_size)\n",
    "        neg_embed     = self.embedding_outside_word(negative_words) #(batch_size, k, emb_size)\n",
    "        \n",
    "        uovc          =  outside_embed.bmm(center_embed.transpose(1, 2)).squeeze(2)  #(batch_size, 1)\n",
    "        ukvc          = -neg_embed.bmm(center_embed.transpose(1, 2)).squeeze(2)  #(batch_size, k)\n",
    "        ukvc_sum      =  torch.sum(ukvc, 1).view(-1, 1) #(batch_size, 1)\n",
    "        \n",
    "        loss = self.logsigmoid(uovc) + self.logsigmoid(ukvc_sum)  #(batch_size, 1) + (batch_size, 1)\n",
    "                \n",
    "        return -torch.mean(loss)  #scalar, loss should be scalar, to call backward()"
   ]
  },
  {
   "cell_type": "code",
   "execution_count": 21,
   "id": "7685edc9-90e6-4acc-a360-a9831cbb5e91",
   "metadata": {},
   "outputs": [],
   "source": [
    "input, label = random_batch(batch_size, corpus_tokenized)\n",
    "input_tensor = torch.LongTensor(input)  \n",
    "label_tensor = torch.LongTensor(label)"
   ]
  },
  {
   "cell_type": "code",
   "execution_count": 22,
   "id": "fb77c3d8-4e58-4edc-99fb-ee928772cbcc",
   "metadata": {},
   "outputs": [],
   "source": [
    "emb_size = 10\n",
    "voc_size = len(vocabs)\n",
    "modelSkNeg = SkipgramNeg(voc_size, emb_size)"
   ]
  },
  {
   "cell_type": "code",
   "execution_count": 23,
   "id": "2f72f2ca-e3aa-49d5-bcb2-8a71f6780974",
   "metadata": {},
   "outputs": [],
   "source": [
    "neg_tensor = negative_sampling(label_tensor, unigram_table, 5)"
   ]
  },
  {
   "cell_type": "code",
   "execution_count": 24,
   "id": "11ba4eee-414d-4004-af38-e0c89bb75c6f",
   "metadata": {},
   "outputs": [
    {
     "data": {
      "text/plain": [
       "(torch.Size([2, 1]), torch.Size([2, 1]))"
      ]
     },
     "execution_count": 24,
     "metadata": {},
     "output_type": "execute_result"
    }
   ],
   "source": [
    "input_tensor.shape, label_tensor.shape"
   ]
  },
  {
   "cell_type": "code",
   "execution_count": 25,
   "id": "850a4eec-e1c9-4499-a4ca-80fa45de5d7b",
   "metadata": {},
   "outputs": [
    {
     "data": {
      "text/plain": [
       "tensor(3.3764, grad_fn=<NegBackward0>)"
      ]
     },
     "execution_count": 25,
     "metadata": {},
     "output_type": "execute_result"
    }
   ],
   "source": [
    "loss = modelSkNeg(input_tensor, label_tensor, neg_tensor)\n",
    "loss"
   ]
  },
  {
   "cell_type": "markdown",
   "id": "cbab836b-359d-4bce-aa89-815ac889f05e",
   "metadata": {},
   "source": [
    "## 6. Training"
   ]
  },
  {
   "cell_type": "code",
   "execution_count": 26,
   "id": "fdb78210-8e65-4ded-9f7f-515469f5b3f2",
   "metadata": {},
   "outputs": [],
   "source": [
    "voc_size   = len(vocabs)\n",
    "batch_size = 2\n",
    "emb_size   = 10\n",
    "modelSkNeg      = SkipgramNeg(voc_size, emb_size)\n",
    "\n",
    "optimizer  = optim.Adam(modelSkNeg.parameters(), lr=0.001)"
   ]
  },
  {
   "cell_type": "code",
   "execution_count": 27,
   "id": "042fdf29-38f5-47a6-a57a-b4e655f29553",
   "metadata": {},
   "outputs": [
    {
     "data": {
      "text/plain": [
       "tensor([355])"
      ]
     },
     "execution_count": 27,
     "metadata": {},
     "output_type": "execute_result"
    }
   ],
   "source": [
    "Berlin = torch.LongTensor([word2index['Berlin']])\n",
    "Berlin"
   ]
  },
  {
   "cell_type": "code",
   "execution_count": 28,
   "id": "66653706-1d95-4464-b9de-ddad50a82626",
   "metadata": {},
   "outputs": [
    {
     "data": {
      "text/plain": [
       "tensor([[-0.1825,  0.8305,  0.1201, -0.8326, -0.1171, -0.8626, -0.9466, -0.3102,\n",
       "         -0.5444,  0.4586]], grad_fn=<DivBackward0>)"
      ]
     },
     "execution_count": 28,
     "metadata": {},
     "output_type": "execute_result"
    }
   ],
   "source": [
    "Berlin_center_embed = modelSkNeg.embedding_center_word(Berlin)\n",
    "Berlin_outside_embed = modelSkNeg.embedding_outside_word(Berlin)\n",
    "\n",
    "Berlin_embed = (Berlin_center_embed + Berlin_outside_embed) / 2\n",
    "Berlin_embed"
   ]
  },
  {
   "cell_type": "code",
   "execution_count": 29,
   "id": "15fca447-2438-40ee-96ad-79c02375e5a0",
   "metadata": {},
   "outputs": [],
   "source": [
    "def get_embed(word):\n",
    "    try:\n",
    "        index = word2index[word]\n",
    "    except:\n",
    "        index = word2index['<UNK>']\n",
    "    \n",
    "    word = torch.LongTensor([index])\n",
    "\n",
    "    center_embed  = modelSkNeg.embedding_center_word(word)\n",
    "    outside_embed = modelSkNeg.embedding_outside_word(word)\n",
    "    \n",
    "    embed = (center_embed + outside_embed) / 2\n",
    "    \n",
    "    return  embed[0][0].item(), embed[0][1].item()"
   ]
  },
  {
   "cell_type": "code",
   "execution_count": 30,
   "id": "61ed26e0-9204-47c8-83a0-6cdc747d1931",
   "metadata": {},
   "outputs": [
    {
     "name": "stdout",
     "output_type": "stream",
     "text": [
      "(-0.18253564834594727, 0.8304792642593384)\n"
     ]
    }
   ],
   "source": [
    "print(get_embed('Berlin'))"
   ]
  },
  {
   "cell_type": "code",
   "execution_count": 31,
   "id": "e6062944-5126-4da6-88db-bec4caf73dd4",
   "metadata": {},
   "outputs": [
    {
     "data": {
      "image/png": "[encoded data removed]",
      "text/plain": [
       "<Figure size 432x216 with 1 Axes>"
      ]
     },
     "metadata": {
      "needs_background": "light"
     },
     "output_type": "display_data"
    }
   ],
   "source": [
    "plt.figure(figsize=(6,3))\n",
    "for i, word in enumerate(vocabs[:20]): #loop each unique vocab\n",
    "    x, y = get_embed(word)\n",
    "    plt.scatter(x, y)\n",
    "    plt.annotate(word, xy=(x, y), xytext=(5, 2), textcoords='offset points')\n",
    "plt.show()"
   ]
  },
  {
   "cell_type": "markdown",
   "id": "74f27f98-abed-4a70-bd54-1c032ce73ea3",
   "metadata": {},
   "source": [
    "## 7. Try on CBOW"
   ]
  },
  {
   "cell_type": "code",
   "execution_count": 36,
   "id": "4c5b1ac9-4772-4bcf-a049-abba059a950f",
   "metadata": {},
   "outputs": [
    {
     "data": {
      "text/plain": [
       "355"
      ]
     },
     "execution_count": 36,
     "metadata": {},
     "output_type": "execute_result"
    }
   ],
   "source": [
    "#delete dupli Berlin word define as vocabs, also include unknow as <UNK>.\n",
    "flatten = lambda l: [item for sublist in l for item in sublist]\n",
    "vocabs  = list(set(flatten(corpus_tokenized)))\n",
    "vocabs.append('<UNK>') # to let '<UNK>' become the last.\n",
    "word2index = {v: idx+1 for idx, v in enumerate(vocabs)} #plus one to shift value in word index to assign <UNK>'s value to 0 without dupliAthension with others.\n",
    "word2index['<UNK>'] = 0\n",
    "\n",
    "#Let check word to index's value\n",
    "word2index[\"Berlin\"]"
   ]
  },
  {
   "cell_type": "code",
   "execution_count": 37,
   "id": "bd8dff60-c81b-40be-b818-969c54547690",
   "metadata": {},
   "outputs": [
    {
     "data": {
      "text/plain": [
       "'Malta'"
      ]
     },
     "execution_count": 37,
     "metadata": {},
     "output_type": "execute_result"
    }
   ],
   "source": [
    "# Create index to word\n",
    "index2word = {v:k for k, v in word2index.items()}\n",
    "\n",
    "index2word[80]"
   ]
  },
  {
   "cell_type": "markdown",
   "id": "32770d1c-6c30-48a1-8fc8-b80ba1500618",
   "metadata": {},
   "source": [
    "## 7.1 Prepair train data"
   ]
  },
  {
   "cell_type": "code",
   "execution_count": 38,
   "id": "b9dbec16-f330-4a7d-85bc-10ab14ca2ddb",
   "metadata": {},
   "outputs": [
    {
     "data": {
      "text/plain": [
       "[['-', ':'],\n",
       " ['-', 'capital'],\n",
       " ['-', 'common'],\n",
       " ['-', '-'],\n",
       " ['common', 'capital'],\n",
       " ['common', '-'],\n",
       " ['common', '-'],\n",
       " ['common', 'countries'],\n",
       " ['-', ':'],\n",
       " ['-', 'city'],\n",
       " ['-', 'in'],\n",
       " ['-', '-'],\n",
       " ['in', 'city'],\n",
       " ['in', '-'],\n",
       " ['in', '-'],\n",
       " ['in', 'state'],\n",
       " ['-', ':'],\n",
       " ['-', 'gram1'],\n",
       " ['-', 'adjective'],\n",
       " ['-', '-'],\n",
       " ['adjective', 'gram1'],\n",
       " ['adjective', '-'],\n",
       " ['adjective', '-'],\n",
       " ['adjective', 'to'],\n",
       " ['-', '-'],\n",
       " ['-', 'adjective'],\n",
       " ['-', 'to'],\n",
       " ['-', '-'],\n",
       " ['to', 'adjective'],\n",
       " ['to', '-']]"
      ]
     },
     "execution_count": 38,
     "metadata": {},
     "output_type": "execute_result"
    }
   ],
   "source": [
    "CBOW = []\n",
    "\n",
    "#for each corpus\n",
    "for sent in corpus_tokenized:\n",
    "    #for each sent [\"apple\", \"banana\", \"fruit\"]\n",
    "    for i in range(2, len(sent) - 2): # start from 1 to second last but we use window size of 2, then first centre word should be at index 2\n",
    "        center_word = sent[i]\n",
    "        outside_words = np.ravel([sent[i - 2:i],sent[i+1: i + 3]])  # window_size = 2\n",
    "        for o in outside_words:\n",
    "            CBOW.append([center_word, o])\n",
    "\n",
    "CBOW[:30] "
   ]
  },
  {
   "cell_type": "code",
   "execution_count": 39,
   "id": "0dc68a8f-5dfc-4861-b111-e9b343d3a8a5",
   "metadata": {},
   "outputs": [],
   "source": [
    "def random_batch(batch_size, corpus):\n",
    "    \n",
    "    skipgrams = []\n",
    "\n",
    "    for sent in corpus:\n",
    "        for i in range(2, len(sent) - 2): #start from 2 to third last for window size = 2\n",
    "            center_word = word2index[sent[i]]\n",
    "            outside_words = [word2index[sent[i-2]], word2index[sent[i+2]]]  #window_size = 2\n",
    "            \n",
    "            for o in outside_words:\n",
    "                skipgrams.append([center_word, o])\n",
    "                \n",
    "    #only get a batch, not the entire list\n",
    "    random_index = np.random.choice(range(len(skipgrams)), batch_size, replace=False)\n",
    "    #appending some list of inputs and labels\n",
    "    random_inputs, random_labels = [], []   \n",
    "    for index in random_index:\n",
    "        random_inputs.append([skipgrams[index][0]])  #center words, this will be a shape of (1, ) --> (1, 1) for modeling\n",
    "        random_labels.append([skipgrams[index][1]])\n",
    "        \n",
    "    return np.array(random_inputs), np.array(random_labels)"
   ]
  },
  {
   "cell_type": "code",
   "execution_count": 40,
   "id": "42a01e8a-b4c9-4af5-9150-43ffa08ad663",
   "metadata": {},
   "outputs": [
    {
     "name": "stdout",
     "output_type": "stream",
     "text": [
      "(10, 1)\n",
      "label=array([[ 40],\n",
      "       [ 86],\n",
      "       [500],\n",
      "       [ 86],\n",
      "       [ 86],\n",
      "       [251],\n",
      "       [ 86],\n",
      "       [251],\n",
      "       [933],\n",
      "       [ 89]])\n"
     ]
    }
   ],
   "source": [
    "input, label = random_batch(10, corpus_tokenized)\n",
    "\n",
    "print(f\"{input.shape}\")\n",
    "print(f\"{label=}\")"
   ]
  },
  {
   "cell_type": "markdown",
   "id": "bccd39a8-bfe4-4c1e-9043-537af02599bd",
   "metadata": {},
   "source": [
    "## 7.2 Unigram distributution"
   ]
  },
  {
   "cell_type": "code",
   "execution_count": 41,
   "id": "0135d901-b7d9-46e5-b89d-83ba395f266f",
   "metadata": {},
   "outputs": [],
   "source": [
    "from collections import Counter\n",
    "\n",
    "word_count = Counter(flatten(corpus_tokenized))\n",
    "# word_count # Showing word count"
   ]
  },
  {
   "cell_type": "code",
   "execution_count": 42,
   "id": "eabd0ba9-d325-43a4-bb6a-1ddce2cc2310",
   "metadata": {},
   "outputs": [
    {
     "data": {
      "text/plain": [
       "78244"
      ]
     },
     "execution_count": 42,
     "metadata": {},
     "output_type": "execute_result"
    }
   ],
   "source": [
    "num_total_words = sum([c for w, c in word_count.items()])\n",
    "num_total_words"
   ]
  },
  {
   "cell_type": "code",
   "execution_count": 43,
   "id": "68af8f80-bbaa-4695-9a09-dc384d4e2d35",
   "metadata": {},
   "outputs": [],
   "source": [
    "z = 0.001  #scaling up low frequency terms\n",
    "unigram_table = []\n",
    "\n",
    "# create loop for the P(w) formula\n",
    "for v in vocabs:\n",
    "    uw = word_count[v]/num_total_words\n",
    "    uw_alpha = uw ** (3/4)\n",
    "    uw_alpha_dividebyz = int(uw_alpha / z)\n",
    "    unigram_table.extend([v] * uw_alpha_dividebyz)\n",
    "    \n",
    "# Counter(unigram_table)"
   ]
  },
  {
   "cell_type": "markdown",
   "id": "ba94ac30-efe3-49d6-84c3-29017d1e3a11",
   "metadata": {},
   "source": [
    "## 7.3 Negative sampling"
   ]
  },
  {
   "cell_type": "code",
   "execution_count": 44,
   "id": "8a5dfdec-cb8d-4c50-91f2-35406c4ff7bd",
   "metadata": {},
   "outputs": [],
   "source": [
    "def prepare_sequence(seq, word2index):\n",
    "    idxs = list(map(lambda w: word2index[w] if word2index.get(w) is not None else word2index[\"<UNK>\"], seq))\n",
    "    return torch.LongTensor(idxs)"
   ]
  },
  {
   "cell_type": "code",
   "execution_count": 45,
   "id": "093ba319-fa31-4b40-9276-ec06558dc559",
   "metadata": {},
   "outputs": [],
   "source": [
    "import random\n",
    "\n",
    "def negative_sampling(targets, unigram_table, k):\n",
    "    \n",
    "    batch_size = targets.shape[0]\n",
    "    neg_samples = []\n",
    "    \n",
    "    for i in range(batch_size):\n",
    "        #randomly pick k negative words from unigram_table\n",
    "        target_index = targets[i].item()  #looping each of the batch....\n",
    "        nsample = []\n",
    "        while len(nsample) < k:\n",
    "            neg = random.choice(unigram_table)\n",
    "            #if this word == target, skip this word\n",
    "            if word2index[neg] == target_index:\n",
    "                continue\n",
    "            nsample.append(neg)\n",
    "        #append this word to some list\n",
    "        neg_samples.append(prepare_sequence(nsample, word2index).reshape(1, -1))  #tensor[], tensor[]\n",
    "    return torch.cat(neg_samples)"
   ]
  },
  {
   "cell_type": "code",
   "execution_count": 47,
   "id": "0bbede77-0ecb-4838-8120-c00c195e21a4",
   "metadata": {},
   "outputs": [
    {
     "data": {
      "text/plain": [
       "(array([[ 86],\n",
       "        [440]]),\n",
       " array([[ 86],\n",
       "        [154]]))"
      ]
     },
     "execution_count": 47,
     "metadata": {},
     "output_type": "execute_result"
    }
   ],
   "source": [
    "batch_size = 2\n",
    "label_batch, input_batch = random_batch(batch_size, corpus_tokenized)\n",
    "\n",
    "input_batch, label_batch"
   ]
  },
  {
   "cell_type": "code",
   "execution_count": 48,
   "id": "4bee8273-dd6f-4439-9b82-a26c5a8cac2e",
   "metadata": {},
   "outputs": [],
   "source": [
    "# Convert to Tensor\n",
    "\n",
    "input_batch = torch.LongTensor(input_batch)\n",
    "label_batch = torch.LongTensor(label_batch)"
   ]
  },
  {
   "cell_type": "code",
   "execution_count": 49,
   "id": "a8541338-58ee-4387-a90b-d11af4cc9c5e",
   "metadata": {},
   "outputs": [],
   "source": [
    "num_neg = 10  \n",
    "neg_samples = negative_sampling(label_batch, unigram_table, num_neg)"
   ]
  },
  {
   "cell_type": "code",
   "execution_count": 50,
   "id": "36cdb667-ae3c-4b8e-a85a-60e78e1fc2dd",
   "metadata": {},
   "outputs": [
    {
     "data": {
      "text/plain": [
       "torch.Size([2, 10])"
      ]
     },
     "execution_count": 50,
     "metadata": {},
     "output_type": "execute_result"
    }
   ],
   "source": [
    "neg_samples.shape"
   ]
  },
  {
   "cell_type": "code",
   "execution_count": 58,
   "id": "97492a95-55e5-4034-8095-15588ac5590c",
   "metadata": {},
   "outputs": [],
   "source": [
    "class CBOW(nn.Module):\n",
    "    \n",
    "    def __init__(self, voc_size, emb_size):\n",
    "        super(CBOW, self).__init__()\n",
    "        self.embedding_center_word  = nn.Embedding(voc_size, emb_size)\n",
    "        self.embedding_outside_word = nn.Embedding(voc_size, emb_size)\n",
    "        self.logsigmoid = nn.LogSigmoid()\n",
    "        \n",
    "    def forward(self, center_words, outside_words, negative_words):\n",
    "        \n",
    "        center_embed  = self.embedding_center_word(center_words)    #(batch_size, 1, emb_size)\n",
    "        outside_embed = self.embedding_outside_word(outside_words)  #(batch_size, 1, emb_size)\n",
    "        neg_embed     = self.embedding_outside_word(negative_words) #(batch_size, k, emb_size)\n",
    "        \n",
    "        uovc          =  outside_embed.bmm(center_embed.transpose(1, 2)).squeeze(2)  #(batch_size, 1)\n",
    "        ukvc          = -neg_embed.bmm(center_embed.transpose(1, 2)).squeeze(2)  #(batch_size, k)\n",
    "        ukvc_sum      =  torch.sum(ukvc, 1).view(-1, 1) #(batch_size, 1)\n",
    "        \n",
    "        loss = self.logsigmoid(uovc) + self.logsigmoid(ukvc_sum)  #(batch_size, 1) + (batch_size, 1)\n",
    "                \n",
    "        return -torch.mean(loss)  #scalar, loss should be scalar, to call backward()"
   ]
  },
  {
   "cell_type": "code",
   "execution_count": 59,
   "id": "3f885507-63e9-420f-b2c0-5fe1f1ed7628",
   "metadata": {},
   "outputs": [],
   "source": [
    "label, input = random_batch(batch_size, corpus_tokenized)\n",
    "input_tensor = torch.LongTensor(input)  \n",
    "label_tensor = torch.LongTensor(label)"
   ]
  },
  {
   "cell_type": "code",
   "execution_count": 60,
   "id": "f10834eb-ccde-404e-8303-40bca9f5c637",
   "metadata": {},
   "outputs": [],
   "source": [
    "emb_size = 10 \n",
    "voc_size = len(vocabs)\n",
    "modelCB = CBOW(voc_size, emb_size)"
   ]
  },
  {
   "cell_type": "code",
   "execution_count": 61,
   "id": "b1b6160f-84b1-4a51-8be4-8d0344029e34",
   "metadata": {},
   "outputs": [],
   "source": [
    "neg_tensor = negative_sampling(label_tensor, unigram_table, 5)"
   ]
  },
  {
   "cell_type": "code",
   "execution_count": 62,
   "id": "defe086d-c416-47c0-9dfe-2681120fe5f1",
   "metadata": {},
   "outputs": [
    {
     "data": {
      "text/plain": [
       "(torch.Size([2, 1]), torch.Size([2, 1]))"
      ]
     },
     "execution_count": 62,
     "metadata": {},
     "output_type": "execute_result"
    }
   ],
   "source": [
    "input_tensor.shape, label_tensor.shape"
   ]
  },
  {
   "cell_type": "code",
   "execution_count": 63,
   "id": "6e24eab5-012c-4c6d-b027-603e84886288",
   "metadata": {},
   "outputs": [
    {
     "data": {
      "text/plain": [
       "tensor(3.0097, grad_fn=<NegBackward0>)"
      ]
     },
     "execution_count": 63,
     "metadata": {},
     "output_type": "execute_result"
    }
   ],
   "source": [
    "loss = modelCB(input_tensor, label_tensor, neg_tensor)\n",
    "loss"
   ]
  },
  {
   "cell_type": "markdown",
   "id": "d64adb20-d9f2-4c72-afa7-2da308588166",
   "metadata": {},
   "source": [
    "## 7.4 Training"
   ]
  },
  {
   "cell_type": "code",
   "execution_count": 64,
   "id": "8afcd80c-dc43-4888-af17-6d1ec768fb7f",
   "metadata": {},
   "outputs": [],
   "source": [
    "voc_size   = len(vocabs)\n",
    "batch_size = 2\n",
    "emb_size   = 10\n",
    "modelCB      = CBOW(voc_size, emb_size)\n",
    "\n",
    "optimizer  = optim.Adam(modelCB.parameters(), lr=0.001)"
   ]
  },
  {
   "cell_type": "code",
   "execution_count": 65,
   "id": "4bbfadbe-cd8b-47aa-94c1-84905185d20c",
   "metadata": {},
   "outputs": [
    {
     "name": "stdout",
     "output_type": "stream",
     "text": [
      "Epoch 1000 | Loss: 0.006699 | Time: 0mins 0secs\n",
      "Epoch 2000 | Loss: 0.000531 | Time: 0mins 0secs\n",
      "Epoch 3000 | Loss: 0.000167 | Time: 0mins 0secs\n",
      "Epoch 4000 | Loss: 0.000000 | Time: 0mins 0secs\n",
      "Epoch 5000 | Loss: 0.000000 | Time: 0mins 0secs\n",
      "Epoch 6000 | Loss: 0.000000 | Time: 0mins 0secs\n",
      "Process Time: 0mins 54secs\n"
     ]
    }
   ],
   "source": [
    "num_epochs = 6000\n",
    "startp = time.time()\n",
    "for epoch in range(num_epochs):\n",
    "    start = time.time()\n",
    "    #get random batch\n",
    "    input_batch, label_batch = random_batch(batch_size, corpus_tokenized)\n",
    "    input_batch = torch.LongTensor(input_batch)\n",
    "    label_batch = torch.LongTensor(label_batch)\n",
    "    neg_batch   = negative_sampling(label_batch, unigram_table, 5)    \n",
    "    \n",
    "    #loss = modelCB\n",
    "    loss = modelCB(input_batch, label_batch, neg_batch)\n",
    "    end = time.time()\n",
    "    \n",
    "    epoch_mins, epoch_secs = epoch_time(start, end)\n",
    "    #backpropagate\n",
    "    loss.backward()\n",
    "    \n",
    "    #update alpha\n",
    "    optimizer.step()\n",
    "    \n",
    "    #print epoch loss\n",
    "    if (epoch + 1) % 1000 == 0:\n",
    "        print(f\"Epoch {epoch+1} | Loss: {loss:.6f} | Time: {epoch_mins}mins {epoch_secs}secs\")\n",
    "endp = time.time()\n",
    "mins, secs = epoch_time(startp, endp)\n",
    "print(f\"Process Time: {mins}mins {secs}secs\")"
   ]
  },
  {
   "cell_type": "markdown",
   "id": "0bb9b703-5e88-464b-9afd-ad60db8b341c",
   "metadata": {},
   "source": [
    "## 7.5 Plot the embeddings"
   ]
  },
  {
   "cell_type": "code",
   "execution_count": 66,
   "id": "b2c74004-d2f9-4d76-826f-c5dce9c25ce0",
   "metadata": {},
   "outputs": [
    {
     "data": {
      "text/plain": [
       "tensor([355])"
      ]
     },
     "execution_count": 66,
     "metadata": {},
     "output_type": "execute_result"
    }
   ],
   "source": [
    "Berlin = torch.LongTensor([word2index['Berlin']])\n",
    "Berlin"
   ]
  },
  {
   "cell_type": "code",
   "execution_count": 67,
   "id": "e1b621a2-d24b-4018-9897-2a57c958ace7",
   "metadata": {},
   "outputs": [
    {
     "data": {
      "text/plain": [
       "tensor([[-0.9341, -4.6931,  2.3916,  1.1021,  0.1182, -3.4221,  2.6224, -0.2901,\n",
       "         -1.5478, -4.1145]], grad_fn=<DivBackward0>)"
      ]
     },
     "execution_count": 67,
     "metadata": {},
     "output_type": "execute_result"
    }
   ],
   "source": [
    "Berlin_center_embed = modelCB.embedding_center_word(Berlin)\n",
    "Berlin_outside_embed = modelCB.embedding_outside_word(Berlin)\n",
    "\n",
    "Berlin_embed = (Berlin_center_embed + Berlin_outside_embed) / 2\n",
    "Berlin_embed"
   ]
  },
  {
   "cell_type": "code",
   "execution_count": 68,
   "id": "882a91f5-1e86-4246-8c34-6ba4552df532",
   "metadata": {},
   "outputs": [],
   "source": [
    "def get_embed(word):\n",
    "    try:\n",
    "        index = word2index[word]\n",
    "    except:\n",
    "        index = word2index['<UNK>']\n",
    "    \n",
    "    word = torch.LongTensor([index])\n",
    "\n",
    "    center_embed  = modelCB.embedding_center_word(word)\n",
    "    outside_embed = modelCB.embedding_outside_word(word)\n",
    "    \n",
    "    embed = (center_embed + outside_embed) / 2\n",
    "    \n",
    "    return  embed[0][0].item(), embed[0][1].item()"
   ]
  },
  {
   "cell_type": "code",
   "execution_count": 69,
   "id": "fae15f9f-74e6-40ed-b02a-325b8afaa483",
   "metadata": {},
   "outputs": [
    {
     "name": "stdout",
     "output_type": "stream",
     "text": [
      "(-0.934106707572937, -4.693122386932373)\n"
     ]
    }
   ],
   "source": [
    "print(get_embed('Berlin'))"
   ]
  },
  {
   "cell_type": "code",
   "execution_count": 71,
   "id": "3e305501-290e-4d56-96c5-613ed44d23f7",
   "metadata": {},
   "outputs": [
    {
     "data": {
      "image/png": "[encoded data removed]",
      "text/plain": [
       "<Figure size 432x216 with 1 Axes>"
      ]
     },
     "metadata": {
      "needs_background": "light"
     },
     "output_type": "display_data"
    }
   ],
   "source": [
    "plt.figure(figsize=(6,3))\n",
    "for i, word in enumerate(vocabs[:20]): #loop each unique vocab\n",
    "    x, y = get_embed(word)\n",
    "    plt.scatter(x, y)\n",
    "    plt.annotate(word, xy=(x, y), xytext=(5, 2), textcoords='offset points')\n",
    "plt.show()"
   ]
  },
  {
   "cell_type": "markdown",
   "id": "ad32cfd2-62e0-4a96-bb12-bb159e29d7b4",
   "metadata": {},
   "source": [
    "## 8. Normal Skipgram "
   ]
  },
  {
   "cell_type": "code",
   "execution_count": 73,
   "id": "17b44e9b-e973-4ce4-b548-bd5fa3d07b5c",
   "metadata": {},
   "outputs": [
    {
     "data": {
      "text/plain": [
       "355"
      ]
     },
     "execution_count": 73,
     "metadata": {},
     "output_type": "execute_result"
    }
   ],
   "source": [
    "#delete dupliAthense word define as vocabs, also include unknow as <UNK>.\n",
    "flatten = lambda l: [item for sublist in l for item in sublist]\n",
    "vocabs  = list(set(flatten(corpus_tokenized)))\n",
    "vocabs.append('<UNK>') # to let '<UNK>' become the last.\n",
    "word2index = {v: idx+1 for idx, v in enumerate(vocabs)} #plus one to shift value in word index to assign <UNK>'s value to 0 without dupliAthension with others.\n",
    "word2index['<UNK>'] = 0\n",
    "\n",
    "#Let check word to index's value\n",
    "word2index[\"Berlin\"]"
   ]
  },
  {
   "cell_type": "code",
   "execution_count": 74,
   "id": "41a97227-7b6f-426f-ad51-7ec1ac73d2ec",
   "metadata": {},
   "outputs": [
    {
     "data": {
      "text/plain": [
       "'mostly'"
      ]
     },
     "execution_count": 74,
     "metadata": {},
     "output_type": "execute_result"
    }
   ],
   "source": [
    "# Create index to word\n",
    "index2word = {v:k for k, v in word2index.items()}\n",
    "\n",
    "index2word[60]"
   ]
  },
  {
   "cell_type": "code",
   "execution_count": 75,
   "id": "7a8da131-122b-4356-9689-2cb92583ba38",
   "metadata": {},
   "outputs": [],
   "source": [
    "skipgrams = []\n",
    "\n",
    "#for each corpus\n",
    "for sent in corpus_tokenized:\n",
    "    #for each sent [\"apple\", \"banana\", \"fruit\"]\n",
    "    for i in range(2, len(sent) - 2): # start from 1 to second last but we use window size of 2, then first centre word should be at index 2\n",
    "        center_word = sent[i]\n",
    "        outside_words = [word2index[sent[i-2]], word2index[sent[i+2]]]  #window_size = 2\n",
    "        for o in outside_words:\n",
    "            skipgrams.append([center_word, o])"
   ]
  },
  {
   "cell_type": "code",
   "execution_count": 79,
   "id": "efb0e411-7508-49e9-b388-a7c93a88ded5",
   "metadata": {},
   "outputs": [],
   "source": [
    "def random_batch(batch_size, corpus):\n",
    "    \n",
    "    skipgrams = []\n",
    "\n",
    "    for sent in corpus:\n",
    "        for i in range(2, len(sent) - 2): #start from 2 to third last for window size = 2\n",
    "            center_word = word2index[sent[i]]\n",
    "            outside_words = [word2index[sent[i-2]], word2index[sent[i+2]]]  #window_size = 2\n",
    "            for o in outside_words:\n",
    "                skipgrams.append([center_word, o])\n",
    "                \n",
    "    #only get a batch, not the entire list\n",
    "    random_index = np.random.choice(range(len(skipgrams)), batch_size, replace=False)\n",
    "    #appending some list of inputs and labels\n",
    "    random_inputs, random_labels = [], []   \n",
    "    for index in random_index:\n",
    "        random_inputs.append([skipgrams[index][0]])  #center words, this will be a shape of (1, ) --> (1, 1) for modeling\n",
    "        random_labels.append([skipgrams[index][1]])\n",
    "        \n",
    "    return np.array(random_inputs), np.array(random_labels)"
   ]
  },
  {
   "cell_type": "code",
   "execution_count": 89,
   "id": "4d8d4844-00cc-4f01-b07b-06cafd0ac744",
   "metadata": {},
   "outputs": [],
   "source": [
    "class Skipgram(nn.Module):\n",
    "    \n",
    "    def __init__(self, voc_size, emb_size):\n",
    "        super(Skipgram, self).__init__()\n",
    "        self.embedding_center_word  = nn.Embedding(voc_size, emb_size)  #is a lookup table mapping all ids in voc_size, into some vector of size emb_size\n",
    "        self.embedding_outside_word = nn.Embedding(voc_size, emb_size)\n",
    "    \n",
    "    def forward(self, center_word, outside_word, all_vocabs):\n",
    "        #center_word, outside_word: (batch_size, 1)\n",
    "        #all_vocabs: (batch_size, voc_size)\n",
    "        \n",
    "        #convert them into embedding\n",
    "        center_word_embed  = self.embedding_center_word(center_word)     #(batch_size, 1, emb_size)\n",
    "        outside_word_embed = self.embedding_outside_word(outside_word)   #(batch_size, 1, emb_size)\n",
    "        all_vocabs_embed   = self.embedding_outside_word(all_vocabs)     #(batch_size, voc_size, emb_size)\n",
    "        \n",
    "        #bmm is basically @ or .dot , but across batches (i.e., ignore the batch dimension)\n",
    "        top_term = outside_word_embed.bmm(center_word_embed.transpose(1, 2)).squeeze(2)\n",
    "        #(batch_size, 1, emb_size) @ (batch_size, emb_size, 1) = (batch_size, 1, 1) ===> (batch_size, 1)\n",
    "        \n",
    "        top_term_exp = torch.exp(top_term)  #exp(uo vc)\n",
    "        #(batch_size, 1)\n",
    "        \n",
    "        lower_term = all_vocabs_embed.bmm(center_word_embed.transpose(1, 2)).squeeze(2)\n",
    "         #(batch_size, voc_size, emb_size) @ (batch_size, emb_size, 1) = (batch_size, voc_size, 1) = (batch_size, voc_size)\n",
    "         \n",
    "        lower_term_sum = torch.sum(torch.exp(lower_term), 1) #sum exp(uw vc)\n",
    "        #(batch_size, 1)\n",
    "        \n",
    "        loss_fn = -torch.mean(torch.log(top_term_exp / lower_term_sum))\n",
    "        #(batch_size, 1) / (batch_size, 1) ==mean==> scalar\n",
    "        \n",
    "        return loss_fn"
   ]
  },
  {
   "cell_type": "code",
   "execution_count": 90,
   "id": "1e4eef31-e55a-4789-b68d-046297d4d5d2",
   "metadata": {},
   "outputs": [
    {
     "name": "stdout",
     "output_type": "stream",
     "text": [
      "(10, 1)\n",
      "label=array([[ 86],\n",
      "       [625],\n",
      "       [251],\n",
      "       [440],\n",
      "       [251],\n",
      "       [733],\n",
      "       [251],\n",
      "       [ 86],\n",
      "       [933],\n",
      "       [352]])\n"
     ]
    }
   ],
   "source": [
    "input, label = random_batch(10, corpus_tokenized)\n",
    "\n",
    "print(f\"{input.shape}\")\n",
    "print(f\"{label=}\")"
   ]
  },
  {
   "cell_type": "markdown",
   "id": "f08618bd-ce9b-4d1d-8b70-17e92387e701",
   "metadata": {},
   "source": [
    "## model"
   ]
  },
  {
   "cell_type": "code",
   "execution_count": 91,
   "id": "a755396c-c3ec-4338-b2d0-9147ecb3ed8e",
   "metadata": {},
   "outputs": [
    {
     "data": {
      "text/plain": [
       "torch.Size([2, 939])"
      ]
     },
     "execution_count": 91,
     "metadata": {},
     "output_type": "execute_result"
    }
   ],
   "source": [
    "batch_size = 2\n",
    "\n",
    "def prepare_sequence(seq, word2index):\n",
    "    #map(function, list of something)\n",
    "    #map will look at each of element in this list, and apply this function\n",
    "    idxs = list(map(lambda w: word2index[w] if word2index.get(w) is not None else word2index[\"<UNK>\"], seq))\n",
    "    return torch.LongTensor(idxs)\n",
    "\n",
    "all_vocabs = prepare_sequence(list(vocabs), word2index).expand(batch_size, voc_size)\n",
    "all_vocabs.shape"
   ]
  },
  {
   "cell_type": "code",
   "execution_count": 92,
   "id": "9c819f30-a5f1-4d8f-8c62-c6369962eff8",
   "metadata": {},
   "outputs": [],
   "source": [
    "input, label = random_batch(batch_size, corpus_tokenized)\n",
    "input_tensor = torch.LongTensor(input)  \n",
    "label_tensor = torch.LongTensor(label)"
   ]
  },
  {
   "cell_type": "code",
   "execution_count": 93,
   "id": "3ecb2b11-16a9-44f6-a819-10ccd8bdebda",
   "metadata": {},
   "outputs": [],
   "source": [
    "emb_size = 10 \n",
    "voc_size = len(vocabs)\n",
    "modelSk = Skipgram(voc_size, emb_size)"
   ]
  },
  {
   "cell_type": "code",
   "execution_count": 97,
   "id": "31b9600b-a721-438c-83dd-69cf3fac25da",
   "metadata": {},
   "outputs": [
    {
     "data": {
      "text/plain": [
       "(torch.Size([2, 1]), torch.Size([2, 1]))"
      ]
     },
     "execution_count": 97,
     "metadata": {},
     "output_type": "execute_result"
    }
   ],
   "source": [
    "input_tensor.shape, label_tensor.shape"
   ]
  },
  {
   "cell_type": "code",
   "execution_count": 98,
   "id": "03177f54-056a-4ac7-a0a5-de096e6c4973",
   "metadata": {},
   "outputs": [
    {
     "data": {
      "text/plain": [
       "tensor(15.4560, grad_fn=<NegBackward0>)"
      ]
     },
     "execution_count": 98,
     "metadata": {},
     "output_type": "execute_result"
    }
   ],
   "source": [
    "loss = modelSk(input_tensor, label_tensor, all_vocabs)\n",
    "loss"
   ]
  },
  {
   "cell_type": "markdown",
   "id": "4f07a6c2-88a9-455b-946e-e05f8c1ff200",
   "metadata": {},
   "source": [
    "## Training"
   ]
  },
  {
   "cell_type": "code",
   "execution_count": 99,
   "id": "271c97ba-6621-475c-a59d-ab20e4af36d5",
   "metadata": {},
   "outputs": [],
   "source": [
    "voc_size   = len(vocabs)\n",
    "batch_size = 2\n",
    "emb_size   = 10\n",
    "modelSk      = Skipgram(voc_size, emb_size)\n",
    "\n",
    "optimizer  = optim.Adam(modelSk.parameters(), lr=0.001)"
   ]
  },
  {
   "cell_type": "code",
   "execution_count": 100,
   "id": "d91b721c-718d-438c-8f47-d27e544318ad",
   "metadata": {},
   "outputs": [
    {
     "name": "stdout",
     "output_type": "stream",
     "text": [
      "Epoch 1000 | Loss: 0.986033 | Time: 0mins 0secs\n",
      "Epoch 2000 | Loss: 2.788755 | Time: 0mins 0secs\n",
      "Epoch 3000 | Loss: 0.837506 | Time: 0mins 0secs\n",
      "Epoch 4000 | Loss: 4.886400 | Time: 0mins 0secs\n",
      "Process Time: 0mins 38secs\n"
     ]
    }
   ],
   "source": [
    "num_epochs = 4000 \n",
    "startp = time.time()\n",
    "#for epoch\n",
    "for epoch in range(num_epochs):\n",
    "    start = time.time()\n",
    "    #get random batch\n",
    "    input_batch, label_batch = random_batch(batch_size, corpus_tokenized)\n",
    "    input_batch = torch.LongTensor(input_batch)\n",
    "    label_batch = torch.LongTensor(label_batch)\n",
    "    \n",
    "    # print(input_batch.shape, label_batch.shape, all_vocabs.shape)\n",
    "    \n",
    "    #loss = modelSk\n",
    "    loss = modelSk(input_batch, label_batch, all_vocabs)\n",
    "    \n",
    "    end = time.time()\n",
    "    \n",
    "    epoch_mins, epoch_secs = epoch_time(start, end)\n",
    "    \n",
    "    #backpropagate\n",
    "    loss.backward()\n",
    "    \n",
    "    #update alpha\n",
    "    optimizer.step()\n",
    "    \n",
    "    #print epoch loss\n",
    "    if (epoch + 1) % 1000 == 0:\n",
    "        print(f\"Epoch {epoch+1} | Loss: {loss:.6f} | Time: {epoch_mins}mins {epoch_secs}secs\")\n",
    "\n",
    "endp = time.time()\n",
    "mins, secs = epoch_time(startp, endp)\n",
    "print(f\"Process Time: {mins}mins {secs}secs\")"
   ]
  },
  {
   "cell_type": "markdown",
   "id": "a52c818e-f46a-480a-b4a3-46b23f27a06b",
   "metadata": {},
   "source": [
    "## Plot the embeddings"
   ]
  },
  {
   "cell_type": "code",
   "execution_count": 101,
   "id": "7359be1b-f741-4e4e-911e-39056c33186e",
   "metadata": {},
   "outputs": [
    {
     "data": {
      "text/plain": [
       "tensor([355])"
      ]
     },
     "execution_count": 101,
     "metadata": {},
     "output_type": "execute_result"
    }
   ],
   "source": [
    "Berlin = torch.LongTensor([word2index['Berlin']])\n",
    "Berlin"
   ]
  },
  {
   "cell_type": "code",
   "execution_count": 102,
   "id": "baf88185-2bf4-45cc-8d9c-bbe8d440e630",
   "metadata": {},
   "outputs": [
    {
     "data": {
      "text/plain": [
       "tensor([[-2.8492, -1.4369,  0.7312, -0.3018, -2.3528, -1.1649, -2.0553, -2.6627,\n",
       "         -0.3973,  1.7817]], grad_fn=<DivBackward0>)"
      ]
     },
     "execution_count": 102,
     "metadata": {},
     "output_type": "execute_result"
    }
   ],
   "source": [
    "Berlin_center_embed = modelSk.embedding_center_word(Berlin)\n",
    "Berlin_outside_embed = modelSk.embedding_outside_word(Berlin)\n",
    "\n",
    "Berlin_embed = (Berlin_center_embed + Berlin_outside_embed) / 2\n",
    "Berlin_embed"
   ]
  },
  {
   "cell_type": "code",
   "execution_count": 104,
   "id": "587162e6-8e80-482b-b01d-850d49e7b684",
   "metadata": {},
   "outputs": [],
   "source": [
    "def get_embed(word):\n",
    "    try:\n",
    "        index = word2index[word]\n",
    "    except:\n",
    "        index = word2index['<UNK>']\n",
    "    \n",
    "    word = torch.LongTensor([index])\n",
    "\n",
    "    center_embed  = modelSk.embedding_center_word(word)\n",
    "    outside_embed = modelSk.embedding_outside_word(word)\n",
    "    \n",
    "    embed = (center_embed + outside_embed) / 2\n",
    "    \n",
    "    return  embed[0][0].item(), embed[0][1].item()"
   ]
  },
  {
   "cell_type": "code",
   "execution_count": 105,
   "id": "ab8736c0-22cb-4daa-962c-bfbde6613208",
   "metadata": {},
   "outputs": [
    {
     "name": "stdout",
     "output_type": "stream",
     "text": [
      "(-2.849222421646118, -1.4369133710861206)\n"
     ]
    }
   ],
   "source": [
    "print(get_embed('Berlin'))"
   ]
  },
  {
   "cell_type": "code",
   "execution_count": 106,
   "id": "b018ed8f-afc8-483f-bf34-6eee501abc96",
   "metadata": {},
   "outputs": [
    {
     "data": {
      "image/png": "[encoded data removed]",
      "text/plain": [
       "<Figure size 432x216 with 1 Axes>"
      ]
     },
     "metadata": {
      "needs_background": "light"
     },
     "output_type": "display_data"
    }
   ],
   "source": [
    "plt.figure(figsize=(6,3))\n",
    "for i, word in enumerate(vocabs[:20]): #loop each unique vocab\n",
    "    x, y = get_embed(word)\n",
    "    plt.scatter(x, y)\n",
    "    plt.annotate(word, xy=(x, y), xytext=(5, 2), textcoords='offset points')\n",
    "plt.show()"
   ]
  },
  {
   "cell_type": "markdown",
   "id": "fff3d303-bd89-44fe-90df-9a536dcd58da",
   "metadata": {},
   "source": [
    "## 9. GloVe"
   ]
  },
  {
   "cell_type": "code",
   "execution_count": 107,
   "id": "d2df7e0e-8879-4a4a-94d3-562b722576b8",
   "metadata": {},
   "outputs": [
    {
     "data": {
      "text/plain": [
       "['Manila', 'hryvnia', 'saying', 'known', 'Chicago']"
      ]
     },
     "execution_count": 107,
     "metadata": {},
     "output_type": "execute_result"
    }
   ],
   "source": [
    "#get word sequences and unique words\n",
    "flatten = lambda l: [item for sublist in l for item in sublist]\n",
    "vocab = list(set(flatten(corpus_tokenized)))\n",
    "vocab[:5]"
   ]
  },
  {
   "cell_type": "code",
   "execution_count": 108,
   "id": "0c549768-2bd1-4dc0-a08d-200f33dbaac3",
   "metadata": {},
   "outputs": [],
   "source": [
    "#numericalization\n",
    "word2index = {w: i for i, w in enumerate(vocab)}"
   ]
  },
  {
   "cell_type": "code",
   "execution_count": 109,
   "id": "684cfe5f-fbd7-44dc-9412-9c55678012d0",
   "metadata": {},
   "outputs": [
    {
     "name": "stdout",
     "output_type": "stream",
     "text": [
      "938\n"
     ]
    }
   ],
   "source": [
    "#vocab size\n",
    "voc_size = len(vocab)\n",
    "print(voc_size)"
   ]
  },
  {
   "cell_type": "code",
   "execution_count": 110,
   "id": "10d8ab45-7226-4eb4-bc43-f2f91e6dcb89",
   "metadata": {},
   "outputs": [],
   "source": [
    "#append UNK\n",
    "vocab.append('<UNK>')"
   ]
  },
  {
   "cell_type": "code",
   "execution_count": 111,
   "id": "786384f0-5bad-461c-b180-66f04cfd803b",
   "metadata": {},
   "outputs": [],
   "source": [
    "word2index['<UNK>'] = 0"
   ]
  },
  {
   "cell_type": "code",
   "execution_count": 112,
   "id": "75c0c477-754a-4cdf-ba41-ecef29fb2d15",
   "metadata": {},
   "outputs": [],
   "source": [
    "#just in case we need to use\n",
    "index2word = {v:k for k, v in word2index.items()} "
   ]
  },
  {
   "cell_type": "markdown",
   "id": "6f42d885-75ef-4547-87e6-baa71db23c60",
   "metadata": {},
   "source": [
    "## Co-occurance matrix"
   ]
  },
  {
   "cell_type": "code",
   "execution_count": 113,
   "id": "c75acaaa-53b1-4dd4-92b1-4b8f825264c2",
   "metadata": {},
   "outputs": [],
   "source": [
    "from collections import Counter\n",
    "\n",
    "X_i = Counter(flatten(corpus)) # X_i\n",
    "# X_i"
   ]
  },
  {
   "cell_type": "code",
   "execution_count": 126,
   "id": "8c1f9752-7ff7-480b-bb8d-60481dadb709",
   "metadata": {},
   "outputs": [
    {
     "data": {
      "text/plain": [
       "[('-', ':'),\n",
       " ('-', 'capital'),\n",
       " ('-', 'common'),\n",
       " ('-', '-'),\n",
       " ('common', 'capital')]"
      ]
     },
     "execution_count": 126,
     "metadata": {},
     "output_type": "execute_result"
    }
   ],
   "source": [
    "# Make skip gram of one size window\n",
    "skip_grams = []\n",
    "\n",
    "for sent in corpus_tokenized:\n",
    "    #for each sent [\"apple\", \"banana\", \"fruit\"]\n",
    "    for i in range(2, len(sent) - 2): # start from 1 to second last but we use window size of 2, then first centre word should be at index 2\n",
    "        target = sent[i]\n",
    "        context = np.ravel([sent[i - 2:i],sent[i+1: i + 3]])  # window_size = 2\n",
    "        for w in context:\n",
    "            skip_grams.append((target, w))\n",
    "\n",
    "skip_grams[:5]"
   ]
  },
  {
   "cell_type": "code",
   "execution_count": 127,
   "id": "391a021c-33b6-453f-afe6-5b8e41b83311",
   "metadata": {},
   "outputs": [
    {
     "data": {
      "text/plain": [
       "Counter({('-', ':'): 7,\n",
       "         ('-', 'capital'): 1,\n",
       "         ('-', 'common'): 1,\n",
       "         ('-', '-'): 9,\n",
       "         ('common', 'capital'): 1,\n",
       "         ('common', '-'): 2,\n",
       "         ('common', 'countries'): 1,\n",
       "         ('-', 'city'): 1,\n",
       "         ('-', 'in'): 1,\n",
       "         ('in', 'city'): 1,\n",
       "         ('in', '-'): 2,\n",
       "         ('in', 'state'): 1,\n",
       "         ('-', 'gram1'): 1,\n",
       "         ('-', 'adjective'): 2,\n",
       "         ('adjective', 'gram1'): 1,\n",
       "         ('adjective', '-'): 2,\n",
       "         ('adjective', 'to'): 1,\n",
       "         ('-', 'to'): 1,\n",
       "         ('to', 'adjective'): 1,\n",
       "         ('to', '-'): 2,\n",
       "         ('to', 'adverb'): 1,\n",
       "         ('-', 'gram5'): 1,\n",
       "         ('-', 'present'): 1,\n",
       "         ('present', 'gram5'): 1,\n",
       "         ('present', '-'): 2,\n",
       "         ('present', 'participle'): 1,\n",
       "         ('-', 'gram6'): 1,\n",
       "         ('-', 'nationality'): 1,\n",
       "         ('nationality', 'gram6'): 1,\n",
       "         ('nationality', '-'): 2,\n",
       "         ('nationality', 'adjective'): 1,\n",
       "         ('-', 'gram7'): 1,\n",
       "         ('-', 'past'): 1,\n",
       "         ('past', 'gram7'): 1,\n",
       "         ('past', '-'): 2,\n",
       "         ('past', 'tense'): 1,\n",
       "         ('-', 'gram9'): 1,\n",
       "         ('-', 'plural'): 1,\n",
       "         ('plural', 'gram9'): 1,\n",
       "         ('plural', '-'): 2,\n",
       "         ('plural', 'verbs'): 1})"
      ]
     },
     "execution_count": 127,
     "metadata": {},
     "output_type": "execute_result"
    }
   ],
   "source": [
    "X_ik_skipgram = Counter(skip_grams) # Co-occurece in window size 1\n",
    "X_ik_skipgram"
   ]
  },
  {
   "cell_type": "code",
   "execution_count": 128,
   "id": "6728ffa3-852e-4cf8-82cf-d8362a49ab1d",
   "metadata": {},
   "outputs": [],
   "source": [
    "#simply a normalized function...don't worry too much\n",
    "def weighting(w_i, w_j, X_ik):\n",
    "        \n",
    "    #check whether the co-occurrences exist between these two words\n",
    "    try:\n",
    "        x_ij = X_ik[(w_i, w_j)]\n",
    "    except:\n",
    "        x_ij = 1  #if does not exist, set it to 1\n",
    "                \n",
    "    x_max = 100 #100 # fixed in paper  #cannot exceed 100 counts\n",
    "    alpha = 0.75\n",
    "    \n",
    "    #if co-occurrence does not exceed 100, scale it based on some alpha\n",
    "    if x_ij < x_max:\n",
    "        result = (x_ij/x_max)**alpha  #scale it\n",
    "    else:\n",
    "        result = 1  #if is greater than max, set it to 1 maximum\n",
    "    \n",
    "    return result"
   ]
  },
  {
   "cell_type": "code",
   "execution_count": 129,
   "id": "4b58de9c-6115-4408-8d95-11db8c539b34",
   "metadata": {},
   "outputs": [
    {
     "name": "stderr",
     "output_type": "stream",
     "text": [
      "IOPub data rate exceeded.\n",
      "The notebook server will temporarily stop sending output\n",
      "to the client in order to avoid crashing it.\n",
      "To change this limit, set the config variable\n",
      "`--NotebookApp.iopub_data_rate_limit`.\n",
      "\n",
      "Current values:\n",
      "NotebookApp.iopub_data_rate_limit=1000000.0 (bytes/sec)\n",
      "NotebookApp.rate_limit_window=3.0 (secs)\n",
      "\n"
     ]
    }
   ],
   "source": [
    "from itertools import combinations_with_replacement\n",
    "\n",
    "X_ik = {}  #for keeping the co-occurences\n",
    "weighting_dic = {} #scaling the percentage of sampling\n",
    "\n",
    "for bigram in combinations_with_replacement(vocab, 2):\n",
    "    if X_ik_skipgram.get(bigram) is not None:  #matches \n",
    "        co_occer = X_ik_skipgram[bigram]  #get the count from what we already counted\n",
    "        X_ik[bigram] = co_occer + 1 # + 1 for stability issue\n",
    "        X_ik[(bigram[1],bigram[0])] = co_occer+1   #count also for the opposite\n",
    "    else:\n",
    "        pass\n",
    "        \n",
    "    weighting_dic[bigram] = weighting(bigram[0], bigram[1], X_ik)\n",
    "    weighting_dic[(bigram[1], bigram[0])] = weighting(bigram[1], bigram[0], X_ik)\n",
    "\n",
    "print(f\"{X_ik=}\")\n",
    "print(f\"{weighting_dic=}\")"
   ]
  },
  {
   "cell_type": "markdown",
   "id": "42fec912-6d4f-487b-a1a8-40132e6da2cb",
   "metadata": {},
   "source": [
    "## Prepair train data"
   ]
  },
  {
   "cell_type": "code",
   "execution_count": 130,
   "id": "3db22ca8-8c4e-49a2-bc61-933ed0c4edfa",
   "metadata": {},
   "outputs": [],
   "source": [
    "import math\n",
    "\n",
    "def random_batch(batch_size, word_sequence, skip_grams, X_ik, weighting_dic):\n",
    "    \n",
    "    #convert to id since our skip_grams is word, not yet id\n",
    "    skip_grams_id = [(word2index[skip_gram[0]], word2index[skip_gram[1]]) for skip_gram in skip_grams]\n",
    "    \n",
    "    random_inputs = []\n",
    "    random_labels = []\n",
    "    random_coocs  = []\n",
    "    random_weightings = []\n",
    "    random_index = np.random.choice(range(len(skip_grams_id)), batch_size, replace=False) #randomly pick without replacement\n",
    "        \n",
    "    for i in random_index:\n",
    "        random_inputs.append([skip_grams_id[i][0]])  # target, e.g., 2\n",
    "        random_labels.append([skip_grams_id[i][1]])  # context word, e.g., 3\n",
    "        \n",
    "        #get cooc\n",
    "        pair = skip_grams[i]\n",
    "        try:\n",
    "            cooc = X_ik[pair]\n",
    "        except:\n",
    "            cooc = 1\n",
    "        random_coocs.append([math.log(cooc)])\n",
    "        \n",
    "        #get weighting\n",
    "        weighting = weighting_dic[pair]\n",
    "        random_weightings.append([weighting])\n",
    "                    \n",
    "    return np.array(random_inputs), np.array(random_labels), np.array(random_coocs), np.array(random_weightings)"
   ]
  },
  {
   "cell_type": "markdown",
   "id": "11da5a70-8b5a-4c64-ace3-ca874da19e7e",
   "metadata": {},
   "source": [
    "## Testing the method"
   ]
  },
  {
   "cell_type": "code",
   "execution_count": 131,
   "id": "4bf9607e-6452-4a07-a5fa-609da9b27efb",
   "metadata": {},
   "outputs": [
    {
     "name": "stdout",
     "output_type": "stream",
     "text": [
      "Input:  [[439]\n",
      " [439]]\n",
      "Target:  [[85]\n",
      " [85]]\n",
      "Cooc:  [[1.09861229]\n",
      " [1.09861229]]\n",
      "Weighting:  [[0.07208434]\n",
      " [0.07208434]]\n"
     ]
    }
   ],
   "source": [
    "#testing the method\n",
    "batch_size = 2 # mini-batch size\n",
    "input_batch, target_batch, cooc_batch, weighting_batch = random_batch(batch_size, corpus, skip_grams, X_ik, weighting_dic)\n",
    "\n",
    "print(\"Input: \", input_batch)\n",
    "print(\"Target: \", target_batch)\n",
    "print(\"Cooc: \", cooc_batch)\n",
    "print(\"Weighting: \", weighting_batch)\n",
    "\n",
    "#we will convert them to tensor during training, so don't worry..."
   ]
  },
  {
   "cell_type": "markdown",
   "id": "2745c373-baf5-4de4-9098-563fcf34a9f1",
   "metadata": {},
   "source": [
    "## Model"
   ]
  },
  {
   "cell_type": "code",
   "execution_count": 132,
   "id": "d89ec37b-1c5b-4258-bc7e-558eb6b4e4a1",
   "metadata": {},
   "outputs": [],
   "source": [
    "class GloVe(nn.Module):\n",
    "    \n",
    "    def __init__(self, vocab_size,embed_size):\n",
    "        super(GloVe,self).__init__()\n",
    "        self.embedding_v = nn.Embedding(vocab_size, embed_size) # center embedding\n",
    "        self.embedding_u = nn.Embedding(vocab_size, embed_size) # out embedding\n",
    "        \n",
    "        self.v_bias = nn.Embedding(vocab_size, 1)\n",
    "        self.u_bias = nn.Embedding(vocab_size, 1)\n",
    "        \n",
    "    def forward(self, center_words, target_words, coocs, weighting):\n",
    "        center_embeds = self.embedding_v(center_words) # [batch_size, 1, emb_size]\n",
    "        target_embeds = self.embedding_u(target_words) # [batch_size, 1, emb_size]\n",
    "        \n",
    "        center_bias = self.v_bias(center_words).squeeze(1)\n",
    "        target_bias = self.u_bias(target_words).squeeze(1)\n",
    "        \n",
    "        inner_product = target_embeds.bmm(center_embeds.transpose(1, 2)).squeeze(2)\n",
    "        #[batch_size, 1, emb_size] @ [batch_size, emb_size, 1] = [batch_size, 1, 1] = [batch_size, 1]\n",
    "        \n",
    "        #note that coocs already got log\n",
    "        loss = weighting*torch.pow(inner_product +center_bias + target_bias - coocs, 2)\n",
    "        \n",
    "        return torch.sum(loss)"
   ]
  },
  {
   "cell_type": "markdown",
   "id": "dcff2f6a-2279-472b-aeb0-5eda10aecb37",
   "metadata": {},
   "source": [
    "## Training"
   ]
  },
  {
   "cell_type": "code",
   "execution_count": 133,
   "id": "d378d864-f5d0-4eac-a203-ae26f795e32e",
   "metadata": {},
   "outputs": [],
   "source": [
    "batch_size     = 2 # mini-batch size\n",
    "embedding_size = 2 #so we can later plot\n",
    "modelGl          = GloVe(voc_size, embedding_size)\n",
    "\n",
    "criterion = nn.CrossEntropyLoss()\n",
    "optimizer = optim.Adam(modelGl.parameters(), lr=0.001)"
   ]
  },
  {
   "cell_type": "code",
   "execution_count": 134,
   "id": "6a6509f7-8f61-44b9-acb3-85c692748d25",
   "metadata": {},
   "outputs": [],
   "source": [
    "def epoch_time(start_time, end_time):\n",
    "    elapsed_time = end_time - start_time\n",
    "    elapsed_mins = int(elapsed_time / 60)\n",
    "    elapsed_secs = int(elapsed_time - (elapsed_mins * 60))\n",
    "    return elapsed_mins, elapsed_secs"
   ]
  },
  {
   "cell_type": "code",
   "execution_count": 135,
   "id": "6f395811-8127-41b7-ac0c-79af38ac71d1",
   "metadata": {},
   "outputs": [
    {
     "name": "stdout",
     "output_type": "stream",
     "text": [
      "Epoch: 1000 | cost: 0.020811 | time: 0mins 0secs\n",
      "Epoch: 2000 | cost: 0.097066 | time: 0mins 0secs\n",
      "Epoch: 3000 | cost: 0.001189 | time: 0mins 0secs\n",
      "Epoch: 4000 | cost: 0.001544 | time: 0mins 0secs\n",
      "Epoch: 5000 | cost: 0.000010 | time: 0mins 0secs\n"
     ]
    }
   ],
   "source": [
    "import time\n",
    "\n",
    "# Training\n",
    "num_epochs = 5000\n",
    "for epoch in range(num_epochs):\n",
    "    \n",
    "    start = time.time()\n",
    "    \n",
    "    input_batch, target_batch, cooc_batch, weighting_batch = random_batch(batch_size, corpus, skip_grams, X_ik, weighting_dic)\n",
    "    input_batch  = torch.LongTensor(input_batch)         #[batch_size, 1]\n",
    "    target_batch = torch.LongTensor(target_batch)        #[batch_size, 1]\n",
    "    cooc_batch   = torch.FloatTensor(cooc_batch)         #[batch_size, 1]\n",
    "    weighting_batch = torch.FloatTensor(weighting_batch) #[batch_size, 1]\n",
    "    \n",
    "    optimizer.zero_grad()\n",
    "    loss = modelGl(input_batch, target_batch, cooc_batch, weighting_batch)\n",
    "    \n",
    "    loss.backward()\n",
    "    optimizer.step()\n",
    "    \n",
    "    end = time.time()\n",
    "    \n",
    "    epoch_mins, epoch_secs = epoch_time(start, end)\n",
    "\n",
    "    if (epoch + 1) % 1000 == 0:\n",
    "        print(f\"Epoch: {epoch + 1} | cost: {loss:.6f} | time: {epoch_mins}mins {epoch_secs}secs\")"
   ]
  },
  {
   "cell_type": "code",
   "execution_count": 136,
   "id": "a8e5ee7e-6874-4c0c-b650-f0262bcd5b64",
   "metadata": {},
   "outputs": [
    {
     "data": {
      "text/plain": [
       "['Manila',\n",
       " 'hryvnia',\n",
       " 'saying',\n",
       " 'known',\n",
       " 'Chicago',\n",
       " 'mother',\n",
       " 'vanishes',\n",
       " 'slowing',\n",
       " 'Austin',\n",
       " 'in']"
      ]
     },
     "execution_count": 136,
     "metadata": {},
     "output_type": "execute_result"
    }
   ],
   "source": [
    "#list of vocabs\n",
    "vocab[:10]"
   ]
  },
  {
   "cell_type": "code",
   "execution_count": 138,
   "id": "c8e3ab1b-c1b3-497c-bc22-c2f1e8cee175",
   "metadata": {},
   "outputs": [],
   "source": [
    "word = vocab[0]"
   ]
  },
  {
   "cell_type": "code",
   "execution_count": 139,
   "id": "281a95ad-7b05-442f-8061-2d5ffd4149cd",
   "metadata": {},
   "outputs": [
    {
     "data": {
      "text/plain": [
       "0"
      ]
     },
     "execution_count": 139,
     "metadata": {},
     "output_type": "execute_result"
    }
   ],
   "source": [
    "#numericalization\n",
    "id = word2index[word]\n",
    "id"
   ]
  },
  {
   "cell_type": "code",
   "execution_count": 140,
   "id": "0b910af7-7234-4387-ab01-cafef2f7e5a2",
   "metadata": {},
   "outputs": [
    {
     "data": {
      "text/plain": [
       "tensor([0])"
      ]
     },
     "execution_count": 140,
     "metadata": {},
     "output_type": "execute_result"
    }
   ],
   "source": [
    "id_tensor = torch.LongTensor([id])\n",
    "id_tensor"
   ]
  },
  {
   "cell_type": "code",
   "execution_count": 141,
   "id": "d30da895-bc34-42e2-8cfb-be8cf41fde8f",
   "metadata": {},
   "outputs": [
    {
     "data": {
      "text/plain": [
       "(tensor([[ 0.8327, -0.8458]], grad_fn=<EmbeddingBackward0>),\n",
       " tensor([[-0.0857,  0.8068]], grad_fn=<EmbeddingBackward0>))"
      ]
     },
     "execution_count": 141,
     "metadata": {},
     "output_type": "execute_result"
    }
   ],
   "source": [
    "#get the embedding by averaging\n",
    "v_embed = modelGl.embedding_v(id_tensor)\n",
    "u_embed = modelGl.embedding_u(id_tensor)\n",
    "\n",
    "v_embed, u_embed"
   ]
  },
  {
   "cell_type": "code",
   "execution_count": 142,
   "id": "03f98951-b662-431e-9e65-6ee756d4e743",
   "metadata": {},
   "outputs": [
    {
     "data": {
      "text/plain": [
       "tensor(-0.0195, grad_fn=<SelectBackward0>)"
      ]
     },
     "execution_count": 142,
     "metadata": {},
     "output_type": "execute_result"
    }
   ],
   "source": [
    "#average to get the word embedding\n",
    "word_embed = (v_embed + u_embed) / 2\n",
    "word_embed[0][1]"
   ]
  },
  {
   "cell_type": "code",
   "execution_count": 143,
   "id": "7f828672-1fe1-48fc-bf63-e027a4145cbf",
   "metadata": {},
   "outputs": [],
   "source": [
    "#let's write a function to get embedding given a word\n",
    "def get_embed(word):\n",
    "    id_tensor = torch.LongTensor([word2index[word]])\n",
    "    v_embed = modelGl.embedding_v(id_tensor)\n",
    "    u_embed = modelGl.embedding_u(id_tensor) \n",
    "    word_embed = (v_embed + u_embed) / 2 \n",
    "    x, y = word_embed[0][0].item(), word_embed[0][1].item()\n",
    "\n",
    "    return x, y"
   ]
  },
  {
   "cell_type": "code",
   "execution_count": 144,
   "id": "8b5230c8-8994-48aa-a215-be2f4c3033ff",
   "metadata": {},
   "outputs": [
    {
     "data": {
      "image/png": "[encoded data removed]",
      "text/plain": [
       "<Figure size 432x216 with 1 Axes>"
      ]
     },
     "metadata": {
      "needs_background": "light"
     },
     "output_type": "display_data"
    }
   ],
   "source": [
    "plt.figure(figsize=(6,3))\n",
    "for i, word in enumerate(vocab[:20]): #loop each unique vocab\n",
    "    x, y = get_embed(word)\n",
    "    plt.scatter(x, y)\n",
    "    plt.annotate(word, xy=(x, y), xytext=(5, 2), textcoords='offset points')\n",
    "plt.show()"
   ]
  },
  {
   "cell_type": "markdown",
   "id": "2c73f787-1e99-4764-ad1e-cf0383e35d1e",
   "metadata": {},
   "source": [
    "### 10.  Comparing based on syntactic accuracy and semantic accuracy"
   ]
  },
  {
   "cell_type": "code",
   "execution_count": 147,
   "id": "7a480868-473c-41b8-82b8-f53c29692f67",
   "metadata": {},
   "outputs": [
    {
     "data": {
      "text/plain": [
       "[['Athens', 'Greece', 'Baghdad', 'Iraq'],\n",
       " ['Athens', 'Greece', 'Bangkok', 'Thailand'],\n",
       " ['Athens', 'Greece', 'Beijing', 'China']]"
      ]
     },
     "execution_count": 147,
     "metadata": {},
     "output_type": "execute_result"
    }
   ],
   "source": [
    "corpus_tokenized[1:4]"
   ]
  },
  {
   "cell_type": "code",
   "execution_count": 148,
   "id": "a65e09c9-5dc0-497b-8a13-031037809db7",
   "metadata": {},
   "outputs": [
    {
     "data": {
      "text/plain": [
       "(SkipgramNeg(\n",
       "   (embedding_center_word): Embedding(939, 10)\n",
       "   (embedding_outside_word): Embedding(939, 10)\n",
       "   (logsigmoid): LogSigmoid()\n",
       " ),\n",
       " Skipgram(\n",
       "   (embedding_center_word): Embedding(939, 10)\n",
       "   (embedding_outside_word): Embedding(939, 10)\n",
       " ),\n",
       " CBOW(\n",
       "   (embedding_center_word): Embedding(939, 10)\n",
       "   (embedding_outside_word): Embedding(939, 10)\n",
       "   (logsigmoid): LogSigmoid()\n",
       " ),\n",
       " GloVe(\n",
       "   (embedding_v): Embedding(938, 2)\n",
       "   (embedding_u): Embedding(938, 2)\n",
       "   (v_bias): Embedding(938, 1)\n",
       "   (u_bias): Embedding(938, 1)\n",
       " ))"
      ]
     },
     "execution_count": 148,
     "metadata": {},
     "output_type": "execute_result"
    }
   ],
   "source": [
    "modelSkNeg, modelSk, modelCB, modelGl"
   ]
  },
  {
   "cell_type": "code",
   "execution_count": 150,
   "id": "5b37bb9a-b432-4134-8a7d-fa64b3b79288",
   "metadata": {},
   "outputs": [],
   "source": [
    "def random_batch(batch_size, corpus):\n",
    "    \n",
    "    skipgrams = []\n",
    "\n",
    "    for sent in corpus:\n",
    "        for i in range(2, len(sent) - 2): #start from 2 to third last for window size = 2\n",
    "            centre_word = word2index[sent[i]]\n",
    "            outside_words = word2index[sent[i-2]], word2index[sent[i+2]]  #window_size = 2\n",
    "            for o in outside_words:\n",
    "                skipgrams.append([centre_word, o])\n",
    "                \n",
    "    #only get a batch, not the entire list\n",
    "    random_index = np.random.choice(range(len(skipgrams)), batch_size, replace=False)\n",
    "    #appending some list of inputs and labels\n",
    "    random_inputs, random_labels = [], []   \n",
    "    for index in random_index:\n",
    "        random_inputs.append([skipgrams[index][0]])  #center words, this will be a shape of (1, ) --> (1, 1) for modeling\n",
    "        random_labels.append([skipgrams[index][1]])\n",
    "        \n",
    "    return np.array(random_inputs), np.array(random_labels)"
   ]
  },
  {
   "cell_type": "code",
   "execution_count": 151,
   "id": "82e28fcc-4e39-43a3-9fbe-d43df190c101",
   "metadata": {},
   "outputs": [],
   "source": [
    "import math\n",
    "\n",
    "def random_batchGl(batch_size, word_sequence, skip_grams, X_ik, weighting_dic):\n",
    "    \n",
    "    #convert to id since our skip_grams is word, not yet id\n",
    "    skip_grams_id = [(word2index[skip_gram[0]], word2index[skip_gram[1]]) for skip_gram in skip_grams]\n",
    "    \n",
    "    random_inputs = []\n",
    "    random_labels = []\n",
    "    random_coocs  = []\n",
    "    random_weightings = []\n",
    "    random_index = np.random.choice(range(len(skip_grams_id)), batch_size, replace=False) #randomly pick without replacement\n",
    "        \n",
    "    for i in random_index:\n",
    "        random_inputs.append([skip_grams_id[i][0]])  # target, e.g., 2\n",
    "        random_labels.append([skip_grams_id[i][1]])  # context word, e.g., 3\n",
    "        \n",
    "        #get cooc\n",
    "        pair = skip_grams[i]\n",
    "        try:\n",
    "            cooc = X_ik[pair]\n",
    "        except:\n",
    "            cooc = 1\n",
    "        random_coocs.append([math.log(cooc)])\n",
    "        \n",
    "        #get weighting\n",
    "        weighting = weighting_dic[pair]\n",
    "        random_weightings.append([weighting])\n",
    "                    \n",
    "    return np.array(random_inputs), np.array(random_labels), np.array(random_coocs), np.array(random_weightings)"
   ]
  },
  {
   "cell_type": "markdown",
   "id": "29f101d9-67e5-4e0e-a8b0-aa7a836b04ac",
   "metadata": {},
   "source": [
    "## Syntactic accuracy"
   ]
  },
  {
   "cell_type": "code",
   "execution_count": 155,
   "id": "682ad912-4378-49e3-bdfd-4d7cac17dd53",
   "metadata": {},
   "outputs": [
    {
     "name": "stdout",
     "output_type": "stream",
     "text": [
      "loss Skipgram: 34.515682220458984\n",
      "loss Skipgram Neg: 8.156046867370605\n",
      "loss CBOW: 91.04903411865234\n",
      "loss GloVe: 0.14909549057483673\n"
     ]
    }
   ],
   "source": [
    "num_epochs = 4000\n",
    "startp = time.time()\n",
    "lossSk = 0\n",
    "lossSkNeg = 0\n",
    "lossCB = 0\n",
    "lossGl = 0\n",
    "batch_size = 2\n",
    "#for epoch\n",
    "for epoch in range(num_epochs):\n",
    "    input_batch, label_batch = random_batch(batch_size, corpus_tokenized)\n",
    "    input_batch = torch.LongTensor(input_batch)\n",
    "    label_batch = torch.LongTensor(label_batch)\n",
    "    \n",
    "    input_batchG, target_batchG, cooc_batch, weighting_batch = random_batchGl(batch_size, corpus, skip_grams, X_ik, weighting_dic)\n",
    "    input_batchG  = torch.LongTensor(input_batch)\n",
    "    target_batchG = torch.LongTensor(target_batch)\n",
    "    cooc_batch   = torch.FloatTensor(cooc_batch)\n",
    "    weighting_batch = torch.FloatTensor(weighting_batch)\n",
    "    \n",
    "    # print(input_batch.shape, label_batch.shape, all_vocabs.shape)\n",
    "    \n",
    "    #loss = modelSk\n",
    "    lossSk += modelSk(input_batch, label_batch, all_vocabs)\n",
    "    lossSkNeg += modelSkNeg(input_batch, label_batch, all_vocabs)\n",
    "    lossCB += modelCB(input_batch, label_batch, all_vocabs)\n",
    "    lossGl += modelGl(input_batchG, target_batchG, cooc_batch, weighting_batch)\n",
    "print(f'loss Skipgram: {lossSk/num_epochs}\\nloss Skipgram Neg: {lossSkNeg/num_epochs}\\nloss CBOW: {lossCB/num_epochs}\\nloss GloVe: {lossGl/num_epochs}')"
   ]
  },
  {
   "cell_type": "markdown",
   "id": "bdcc5753-4aa9-408e-909a-9d61f7d41155",
   "metadata": {},
   "source": [
    "## Semantic accuracy"
   ]
  },
  {
   "cell_type": "code",
   "execution_count": 157,
   "id": "18766f72-ce69-4b15-8a21-1799ec81b0e5",
   "metadata": {},
   "outputs": [
    {
     "name": "stdout",
     "output_type": "stream",
     "text": [
      "loss Skipgram: 26.93904685974121\n",
      "loss Skipgram Neg: 22.328907012939453\n",
      "loss CBOW: 1210.02734375\n",
      "loss GloVe: 0.33704647421836853\n"
     ]
    }
   ],
   "source": [
    "num_epochs = 4000\n",
    "startp = time.time()\n",
    "lossSk = 0\n",
    "lossSkNeg = 0\n",
    "lossCB = 0\n",
    "lossGl = 0\n",
    "batch_size = 2\n",
    "#for epoch\n",
    "for epoch in range(num_epochs):\n",
    "    label_batch, input_batch  = random_batch(batch_size, corpus_tokenized)\n",
    "    input_batch = torch.LongTensor(input_batch)\n",
    "    label_batch = torch.LongTensor(label_batch)\n",
    "    \n",
    "    target_batchG, input_batchG, cooc_batch, weighting_batch = random_batchGl(batch_size, corpus, skip_grams, X_ik, weighting_dic)\n",
    "    input_batchG  = torch.LongTensor(input_batch)\n",
    "    target_batchG = torch.LongTensor(target_batch)\n",
    "    cooc_batch   = torch.FloatTensor(cooc_batch)\n",
    "    weighting_batch = torch.FloatTensor(weighting_batch)\n",
    "    \n",
    "    # print(input_batch.shape, label_batch.shape, all_vocabs.shape)\n",
    "    \n",
    "    #loss = modelSk\n",
    "    lossSk += modelSk(input_batch, label_batch, all_vocabs)\n",
    "    lossSkNeg += modelSkNeg(input_batch, label_batch, all_vocabs)\n",
    "    lossCB += modelCB(input_batch, label_batch, all_vocabs)\n",
    "    lossGl += modelGl(input_batchG, target_batchG, cooc_batch, weighting_batch)\n",
    "print(f'loss Skipgram: {lossSk/num_epochs}\\nloss Skipgram Neg: {lossSkNeg/num_epochs}\\nloss CBOW: {lossCB/num_epochs}\\nloss GloVe: {lossGl/num_epochs}')"
   ]
  },
  {
   "cell_type": "markdown",
   "id": "b70c7140-6909-4f60-af3c-98ba34688539",
   "metadata": {},
   "source": [
    "||Syntactic|Semantic|\n",
    "|:--|:--|:--|\n",
    "|Skipgram|34.515682220458984|26.93904685974121|\n",
    "|Skipgram Neg|8.156046867370605|22.328907012939453|\n",
    "|CBOW|91.04903411865234|1210.02734375|\n",
    "|GloVe|0.14909549057483673|0.33704647421836853|"
   ]
  },
  {
   "cell_type": "markdown",
   "id": "8abdfb30-900c-41c7-9d80-e868fdeeae29",
   "metadata": {},
   "source": [
    "From the experiments, all of loss of syntactic accuracy are less than semantic accuracy. There have drastically loss of semantic accuracy at CBOW compared with synrtactic accuracy, maybe it caused of random batch errors."
   ]
  },
  {
   "cell_type": "code",
   "execution_count": null,
   "id": "68004acf-c0de-4bc8-9ca7-23ac8497cabd",
   "metadata": {},
   "outputs": [],
   "source": []
  }
 ],
 "metadata": {
  "kernelspec": {
   "display_name": "Python 3 (ipykernel)",
   "language": "python",
   "name": "python3"
  },
  "language_info": {
   "codemirror_mode": {
    "name": "ipython",
    "version": 3
   },
   "file_extension": ".py",
   "mimetype": "text/x-python",
   "name": "python",
   "nbconvert_exporter": "python",
   "pygments_lexer": "ipython3",
   "version": "3.9.7"
  }
 },
 "nbformat": 4,
 "nbformat_minor": 5
}
